{
  "metadata": {
    "kernelspec": {
      "language": "python",
      "display_name": "Python 3",
      "name": "python3"
    },
    "language_info": {
      "name": "python",
      "version": "3.7.12",
      "mimetype": "text/x-python",
      "codemirror_mode": {
        "name": "ipython",
        "version": 3
      },
      "pygments_lexer": "ipython3",
      "nbconvert_exporter": "python",
      "file_extension": ".py"
    },
    "colab": {
      "provenance": []
    }
  },
  "nbformat_minor": 0,
  "nbformat": 4,
  "cells": [
    {
      "cell_type": "markdown",
      "source": [
        "# RNN Twitter Disaster Classifier"
      ],
      "metadata": {
        "id": "XgIdB8cKrDjv"
      }
    },
    {
      "cell_type": "markdown",
      "source": [
        "## Imports"
      ],
      "metadata": {
        "id": "eXjJslKyhn1o"
      }
    },
    {
      "cell_type": "code",
      "source": [
        "import numpy as np \n",
        "import pandas as pd\n",
        "import matplotlib.pyplot as plt\n",
        "from sklearn import preprocessing \n",
        "import itertools\n",
        "from sklearn.model_selection import train_test_split\n",
        "import tensorflow as tf\n",
        "from tensorflow.keras.models import Sequential\n",
        "from tensorflow.keras.layers import Dense\n",
        "from tensorflow.keras.layers import LSTM, GRU, SimpleRNN\n",
        "from tensorflow.keras.layers import Embedding\n",
        "from tensorflow import keras"
      ],
      "metadata": {
        "_uuid": "8f2839f25d086af736a60e9eeb907d3b93b6e0e5",
        "_cell_guid": "b1076dfc-b9ad-4769-8c92-a6c4dae69d19",
        "execution": {
          "iopub.status.busy": "2022-12-07T23:20:25.333401Z",
          "iopub.execute_input": "2022-12-07T23:20:25.333850Z",
          "iopub.status.idle": "2022-12-07T23:20:26.996445Z",
          "shell.execute_reply.started": "2022-12-07T23:20:25.333768Z",
          "shell.execute_reply": "2022-12-07T23:20:26.995391Z"
        },
        "trusted": true,
        "id": "nGoh6-GHhn1r"
      },
      "execution_count": 37,
      "outputs": []
    },
    {
      "cell_type": "markdown",
      "source": [
        "## Loading Data"
      ],
      "metadata": {
        "id": "LAtKsTl-mXQe"
      }
    },
    {
      "cell_type": "code",
      "source": [
        "#train = pd.read_csv('/content/drive/MyDrive/train_dist.csv')\n",
        "#test = pd.read_csv('/content/drive/MyDrive/test_dist.csv')"
      ],
      "metadata": {
        "execution": {
          "iopub.status.busy": "2022-12-07T23:20:26.998463Z",
          "iopub.execute_input": "2022-12-07T23:20:26.998917Z",
          "iopub.status.idle": "2022-12-07T23:20:27.061743Z",
          "shell.execute_reply.started": "2022-12-07T23:20:26.998877Z",
          "shell.execute_reply": "2022-12-07T23:20:27.060829Z"
        },
        "trusted": true,
        "id": "mujrHt9Ihn1t"
      },
      "execution_count": 3,
      "outputs": []
    },
    {
      "cell_type": "code",
      "source": [
        "train = pd.read_csv('../input/nlp-getting-started/train.csv')\n",
        "test = pd.read_csv('../input/nlp-getting-started/test.csv')"
      ],
      "metadata": {
        "id": "SrAJYVrqjBNF"
      },
      "execution_count": null,
      "outputs": []
    },
    {
      "cell_type": "markdown",
      "source": [
        "## Exploratory Data Analysis (EDA)"
      ],
      "metadata": {
        "id": "aFmz3WE1m2Zy"
      }
    },
    {
      "cell_type": "code",
      "source": [
        "train.head()"
      ],
      "metadata": {
        "execution": {
          "iopub.status.busy": "2022-12-07T23:20:27.359070Z",
          "iopub.execute_input": "2022-12-07T23:20:27.359440Z",
          "iopub.status.idle": "2022-12-07T23:20:27.374171Z",
          "shell.execute_reply.started": "2022-12-07T23:20:27.359404Z",
          "shell.execute_reply": "2022-12-07T23:20:27.373301Z"
        },
        "trusted": true,
        "id": "apHW87sphn1w",
        "outputId": "c6586b96-621d-42ea-c0d3-30d54549fdec",
        "colab": {
          "base_uri": "https://localhost:8080/",
          "height": 206
        }
      },
      "execution_count": 4,
      "outputs": [
        {
          "output_type": "execute_result",
          "data": {
            "text/plain": [
              "   id keyword location                                               text  \\\n",
              "0   1     NaN      NaN  Our Deeds are the Reason of this #earthquake M...   \n",
              "1   4     NaN      NaN             Forest fire near La Ronge Sask. Canada   \n",
              "2   5     NaN      NaN  All residents asked to 'shelter in place' are ...   \n",
              "3   6     NaN      NaN  13,000 people receive #wildfires evacuation or...   \n",
              "4   7     NaN      NaN  Just got sent this photo from Ruby #Alaska as ...   \n",
              "\n",
              "   target  \n",
              "0       1  \n",
              "1       1  \n",
              "2       1  \n",
              "3       1  \n",
              "4       1  "
            ],
            "text/html": [
              "\n",
              "  <div id=\"df-a786aec7-a12f-4536-ba28-e84c4d0948d0\">\n",
              "    <div class=\"colab-df-container\">\n",
              "      <div>\n",
              "<style scoped>\n",
              "    .dataframe tbody tr th:only-of-type {\n",
              "        vertical-align: middle;\n",
              "    }\n",
              "\n",
              "    .dataframe tbody tr th {\n",
              "        vertical-align: top;\n",
              "    }\n",
              "\n",
              "    .dataframe thead th {\n",
              "        text-align: right;\n",
              "    }\n",
              "</style>\n",
              "<table border=\"1\" class=\"dataframe\">\n",
              "  <thead>\n",
              "    <tr style=\"text-align: right;\">\n",
              "      <th></th>\n",
              "      <th>id</th>\n",
              "      <th>keyword</th>\n",
              "      <th>location</th>\n",
              "      <th>text</th>\n",
              "      <th>target</th>\n",
              "    </tr>\n",
              "  </thead>\n",
              "  <tbody>\n",
              "    <tr>\n",
              "      <th>0</th>\n",
              "      <td>1</td>\n",
              "      <td>NaN</td>\n",
              "      <td>NaN</td>\n",
              "      <td>Our Deeds are the Reason of this #earthquake M...</td>\n",
              "      <td>1</td>\n",
              "    </tr>\n",
              "    <tr>\n",
              "      <th>1</th>\n",
              "      <td>4</td>\n",
              "      <td>NaN</td>\n",
              "      <td>NaN</td>\n",
              "      <td>Forest fire near La Ronge Sask. Canada</td>\n",
              "      <td>1</td>\n",
              "    </tr>\n",
              "    <tr>\n",
              "      <th>2</th>\n",
              "      <td>5</td>\n",
              "      <td>NaN</td>\n",
              "      <td>NaN</td>\n",
              "      <td>All residents asked to 'shelter in place' are ...</td>\n",
              "      <td>1</td>\n",
              "    </tr>\n",
              "    <tr>\n",
              "      <th>3</th>\n",
              "      <td>6</td>\n",
              "      <td>NaN</td>\n",
              "      <td>NaN</td>\n",
              "      <td>13,000 people receive #wildfires evacuation or...</td>\n",
              "      <td>1</td>\n",
              "    </tr>\n",
              "    <tr>\n",
              "      <th>4</th>\n",
              "      <td>7</td>\n",
              "      <td>NaN</td>\n",
              "      <td>NaN</td>\n",
              "      <td>Just got sent this photo from Ruby #Alaska as ...</td>\n",
              "      <td>1</td>\n",
              "    </tr>\n",
              "  </tbody>\n",
              "</table>\n",
              "</div>\n",
              "      <button class=\"colab-df-convert\" onclick=\"convertToInteractive('df-a786aec7-a12f-4536-ba28-e84c4d0948d0')\"\n",
              "              title=\"Convert this dataframe to an interactive table.\"\n",
              "              style=\"display:none;\">\n",
              "        \n",
              "  <svg xmlns=\"http://www.w3.org/2000/svg\" height=\"24px\"viewBox=\"0 0 24 24\"\n",
              "       width=\"24px\">\n",
              "    <path d=\"M0 0h24v24H0V0z\" fill=\"none\"/>\n",
              "    <path d=\"M18.56 5.44l.94 2.06.94-2.06 2.06-.94-2.06-.94-.94-2.06-.94 2.06-2.06.94zm-11 1L8.5 8.5l.94-2.06 2.06-.94-2.06-.94L8.5 2.5l-.94 2.06-2.06.94zm10 10l.94 2.06.94-2.06 2.06-.94-2.06-.94-.94-2.06-.94 2.06-2.06.94z\"/><path d=\"M17.41 7.96l-1.37-1.37c-.4-.4-.92-.59-1.43-.59-.52 0-1.04.2-1.43.59L10.3 9.45l-7.72 7.72c-.78.78-.78 2.05 0 2.83L4 21.41c.39.39.9.59 1.41.59.51 0 1.02-.2 1.41-.59l7.78-7.78 2.81-2.81c.8-.78.8-2.07 0-2.86zM5.41 20L4 18.59l7.72-7.72 1.47 1.35L5.41 20z\"/>\n",
              "  </svg>\n",
              "      </button>\n",
              "      \n",
              "  <style>\n",
              "    .colab-df-container {\n",
              "      display:flex;\n",
              "      flex-wrap:wrap;\n",
              "      gap: 12px;\n",
              "    }\n",
              "\n",
              "    .colab-df-convert {\n",
              "      background-color: #E8F0FE;\n",
              "      border: none;\n",
              "      border-radius: 50%;\n",
              "      cursor: pointer;\n",
              "      display: none;\n",
              "      fill: #1967D2;\n",
              "      height: 32px;\n",
              "      padding: 0 0 0 0;\n",
              "      width: 32px;\n",
              "    }\n",
              "\n",
              "    .colab-df-convert:hover {\n",
              "      background-color: #E2EBFA;\n",
              "      box-shadow: 0px 1px 2px rgba(60, 64, 67, 0.3), 0px 1px 3px 1px rgba(60, 64, 67, 0.15);\n",
              "      fill: #174EA6;\n",
              "    }\n",
              "\n",
              "    [theme=dark] .colab-df-convert {\n",
              "      background-color: #3B4455;\n",
              "      fill: #D2E3FC;\n",
              "    }\n",
              "\n",
              "    [theme=dark] .colab-df-convert:hover {\n",
              "      background-color: #434B5C;\n",
              "      box-shadow: 0px 1px 3px 1px rgba(0, 0, 0, 0.15);\n",
              "      filter: drop-shadow(0px 1px 2px rgba(0, 0, 0, 0.3));\n",
              "      fill: #FFFFFF;\n",
              "    }\n",
              "  </style>\n",
              "\n",
              "      <script>\n",
              "        const buttonEl =\n",
              "          document.querySelector('#df-a786aec7-a12f-4536-ba28-e84c4d0948d0 button.colab-df-convert');\n",
              "        buttonEl.style.display =\n",
              "          google.colab.kernel.accessAllowed ? 'block' : 'none';\n",
              "\n",
              "        async function convertToInteractive(key) {\n",
              "          const element = document.querySelector('#df-a786aec7-a12f-4536-ba28-e84c4d0948d0');\n",
              "          const dataTable =\n",
              "            await google.colab.kernel.invokeFunction('convertToInteractive',\n",
              "                                                     [key], {});\n",
              "          if (!dataTable) return;\n",
              "\n",
              "          const docLinkHtml = 'Like what you see? Visit the ' +\n",
              "            '<a target=\"_blank\" href=https://colab.research.google.com/notebooks/data_table.ipynb>data table notebook</a>'\n",
              "            + ' to learn more about interactive tables.';\n",
              "          element.innerHTML = '';\n",
              "          dataTable['output_type'] = 'display_data';\n",
              "          await google.colab.output.renderOutput(dataTable, element);\n",
              "          const docLink = document.createElement('div');\n",
              "          docLink.innerHTML = docLinkHtml;\n",
              "          element.appendChild(docLink);\n",
              "        }\n",
              "      </script>\n",
              "    </div>\n",
              "  </div>\n",
              "  "
            ]
          },
          "metadata": {},
          "execution_count": 4
        }
      ]
    },
    {
      "cell_type": "code",
      "source": [
        "train.shape"
      ],
      "metadata": {
        "execution": {
          "iopub.status.busy": "2022-12-07T23:20:27.375558Z",
          "iopub.execute_input": "2022-12-07T23:20:27.375905Z",
          "iopub.status.idle": "2022-12-07T23:20:27.384297Z",
          "shell.execute_reply.started": "2022-12-07T23:20:27.375872Z",
          "shell.execute_reply": "2022-12-07T23:20:27.383387Z"
        },
        "trusted": true,
        "id": "x0vtJcsxhn1x",
        "outputId": "54c79ccc-5641-43f1-a583-6d69486d2ad1",
        "colab": {
          "base_uri": "https://localhost:8080/"
        }
      },
      "execution_count": 5,
      "outputs": [
        {
          "output_type": "execute_result",
          "data": {
            "text/plain": [
              "(7613, 5)"
            ]
          },
          "metadata": {},
          "execution_count": 5
        }
      ]
    },
    {
      "cell_type": "code",
      "source": [
        "np.mean(train['target'])"
      ],
      "metadata": {
        "execution": {
          "iopub.status.busy": "2022-12-07T23:20:27.385666Z",
          "iopub.execute_input": "2022-12-07T23:20:27.386071Z",
          "iopub.status.idle": "2022-12-07T23:20:27.397295Z",
          "shell.execute_reply.started": "2022-12-07T23:20:27.386037Z",
          "shell.execute_reply": "2022-12-07T23:20:27.396109Z"
        },
        "trusted": true,
        "id": "Hv_Yv2CQhn1x",
        "outputId": "9996ac61-dd05-441b-905f-79fd52850a2d",
        "colab": {
          "base_uri": "https://localhost:8080/"
        }
      },
      "execution_count": 6,
      "outputs": [
        {
          "output_type": "execute_result",
          "data": {
            "text/plain": [
              "0.4296597924602653"
            ]
          },
          "metadata": {},
          "execution_count": 6
        }
      ]
    },
    {
      "cell_type": "code",
      "source": [
        "plt.hist([len(i.split()) for i in train['text']])\n",
        "plt.title('Histogram of Length of Texts in Training Set')\n",
        "plt.xlabel('Length of Text')\n",
        "plt.ylabel('Count')"
      ],
      "metadata": {
        "execution": {
          "iopub.status.busy": "2022-12-07T23:20:27.399147Z",
          "iopub.execute_input": "2022-12-07T23:20:27.399654Z",
          "iopub.status.idle": "2022-12-07T23:20:27.636418Z",
          "shell.execute_reply.started": "2022-12-07T23:20:27.399620Z",
          "shell.execute_reply": "2022-12-07T23:20:27.635595Z"
        },
        "trusted": true,
        "id": "ZFD5R9ulhn1y",
        "outputId": "9318abce-9d89-4eaa-9277-ec64e4aa2ff9",
        "colab": {
          "base_uri": "https://localhost:8080/",
          "height": 312
        }
      },
      "execution_count": 7,
      "outputs": [
        {
          "output_type": "execute_result",
          "data": {
            "text/plain": [
              "Text(0, 0.5, 'Count')"
            ]
          },
          "metadata": {},
          "execution_count": 7
        },
        {
          "output_type": "display_data",
          "data": {
            "text/plain": [
              "<Figure size 432x288 with 1 Axes>"
            ],
            "image/png": "[encoded data removed]"
          },
          "metadata": {
            "needs_background": "light"
          }
        }
      ]
    },
    {
      "cell_type": "code",
      "source": [
        "max(len(i.split()) for i in train['text'])"
      ],
      "metadata": {
        "execution": {
          "iopub.status.busy": "2022-12-07T23:20:27.638244Z",
          "iopub.execute_input": "2022-12-07T23:20:27.638842Z",
          "iopub.status.idle": "2022-12-07T23:20:27.653081Z",
          "shell.execute_reply.started": "2022-12-07T23:20:27.638797Z",
          "shell.execute_reply": "2022-12-07T23:20:27.651943Z"
        },
        "trusted": true,
        "id": "v_u-yozjhn1z",
        "outputId": "e5af0b7f-ee99-4f6b-9b68-94f521c4c487",
        "colab": {
          "base_uri": "https://localhost:8080/"
        }
      },
      "execution_count": 8,
      "outputs": [
        {
          "output_type": "execute_result",
          "data": {
            "text/plain": [
              "31"
            ]
          },
          "metadata": {},
          "execution_count": 8
        }
      ]
    },
    {
      "cell_type": "code",
      "source": [
        "plt.hist([len(i.split()) for i in test['text']])\n",
        "plt.title('Histogram of Length of Texts in Training Set')\n",
        "plt.xlabel('Length of Text')\n",
        "plt.ylabel('Count')"
      ],
      "metadata": {
        "execution": {
          "iopub.status.busy": "2022-12-07T23:20:27.654551Z",
          "iopub.execute_input": "2022-12-07T23:20:27.654956Z",
          "iopub.status.idle": "2022-12-07T23:20:27.867549Z",
          "shell.execute_reply.started": "2022-12-07T23:20:27.654922Z",
          "shell.execute_reply": "2022-12-07T23:20:27.866709Z"
        },
        "trusted": true,
        "id": "QnDaAHXhhn10",
        "outputId": "ae173c44-277d-4f41-b51d-275261a91854",
        "colab": {
          "base_uri": "https://localhost:8080/",
          "height": 312
        }
      },
      "execution_count": 9,
      "outputs": [
        {
          "output_type": "execute_result",
          "data": {
            "text/plain": [
              "Text(0, 0.5, 'Count')"
            ]
          },
          "metadata": {},
          "execution_count": 9
        },
        {
          "output_type": "display_data",
          "data": {
            "text/plain": [
              "<Figure size 432x288 with 1 Axes>"
            ],
            "image/png": "[encoded data removed]"
          },
          "metadata": {
            "needs_background": "light"
          }
        }
      ]
    },
    {
      "cell_type": "code",
      "source": [
        "max(len(i.split()) for i in test['text'])"
      ],
      "metadata": {
        "execution": {
          "iopub.status.busy": "2022-12-07T23:20:27.874180Z",
          "iopub.execute_input": "2022-12-07T23:20:27.875983Z",
          "iopub.status.idle": "2022-12-07T23:20:27.884869Z",
          "shell.execute_reply.started": "2022-12-07T23:20:27.875957Z",
          "shell.execute_reply": "2022-12-07T23:20:27.883771Z"
        },
        "trusted": true,
        "id": "zujeD_GPhn11",
        "outputId": "9894998b-8675-4523-e881-5a97d129182b",
        "colab": {
          "base_uri": "https://localhost:8080/"
        }
      },
      "execution_count": 10,
      "outputs": [
        {
          "output_type": "execute_result",
          "data": {
            "text/plain": [
              "31"
            ]
          },
          "metadata": {},
          "execution_count": 10
        }
      ]
    },
    {
      "cell_type": "code",
      "source": [
        "test.head()"
      ],
      "metadata": {
        "execution": {
          "iopub.status.busy": "2022-12-07T23:20:28.326871Z",
          "iopub.execute_input": "2022-12-07T23:20:28.327205Z",
          "iopub.status.idle": "2022-12-07T23:20:28.337244Z",
          "shell.execute_reply.started": "2022-12-07T23:20:28.327172Z",
          "shell.execute_reply": "2022-12-07T23:20:28.336152Z"
        },
        "trusted": true,
        "id": "NkDrWzewhn18",
        "outputId": "4b566565-22ee-45b4-fec7-d241ff20d806",
        "colab": {
          "base_uri": "https://localhost:8080/",
          "height": 206
        }
      },
      "execution_count": 11,
      "outputs": [
        {
          "output_type": "execute_result",
          "data": {
            "text/plain": [
              "   id keyword location                                               text\n",
              "0   0     NaN      NaN                 Just happened a terrible car crash\n",
              "1   2     NaN      NaN  Heard about #earthquake is different cities, s...\n",
              "2   3     NaN      NaN  there is a forest fire at spot pond, geese are...\n",
              "3   9     NaN      NaN           Apocalypse lighting. #Spokane #wildfires\n",
              "4  11     NaN      NaN      Typhoon Soudelor kills 28 in China and Taiwan"
            ],
            "text/html": [
              "\n",
              "  <div id=\"df-5ec5bf31-784d-4447-9803-cd030574742c\">\n",
              "    <div class=\"colab-df-container\">\n",
              "      <div>\n",
              "<style scoped>\n",
              "    .dataframe tbody tr th:only-of-type {\n",
              "        vertical-align: middle;\n",
              "    }\n",
              "\n",
              "    .dataframe tbody tr th {\n",
              "        vertical-align: top;\n",
              "    }\n",
              "\n",
              "    .dataframe thead th {\n",
              "        text-align: right;\n",
              "    }\n",
              "</style>\n",
              "<table border=\"1\" class=\"dataframe\">\n",
              "  <thead>\n",
              "    <tr style=\"text-align: right;\">\n",
              "      <th></th>\n",
              "      <th>id</th>\n",
              "      <th>keyword</th>\n",
              "      <th>location</th>\n",
              "      <th>text</th>\n",
              "    </tr>\n",
              "  </thead>\n",
              "  <tbody>\n",
              "    <tr>\n",
              "      <th>0</th>\n",
              "      <td>0</td>\n",
              "      <td>NaN</td>\n",
              "      <td>NaN</td>\n",
              "      <td>Just happened a terrible car crash</td>\n",
              "    </tr>\n",
              "    <tr>\n",
              "      <th>1</th>\n",
              "      <td>2</td>\n",
              "      <td>NaN</td>\n",
              "      <td>NaN</td>\n",
              "      <td>Heard about #earthquake is different cities, s...</td>\n",
              "    </tr>\n",
              "    <tr>\n",
              "      <th>2</th>\n",
              "      <td>3</td>\n",
              "      <td>NaN</td>\n",
              "      <td>NaN</td>\n",
              "      <td>there is a forest fire at spot pond, geese are...</td>\n",
              "    </tr>\n",
              "    <tr>\n",
              "      <th>3</th>\n",
              "      <td>9</td>\n",
              "      <td>NaN</td>\n",
              "      <td>NaN</td>\n",
              "      <td>Apocalypse lighting. #Spokane #wildfires</td>\n",
              "    </tr>\n",
              "    <tr>\n",
              "      <th>4</th>\n",
              "      <td>11</td>\n",
              "      <td>NaN</td>\n",
              "      <td>NaN</td>\n",
              "      <td>Typhoon Soudelor kills 28 in China and Taiwan</td>\n",
              "    </tr>\n",
              "  </tbody>\n",
              "</table>\n",
              "</div>\n",
              "      <button class=\"colab-df-convert\" onclick=\"convertToInteractive('df-5ec5bf31-784d-4447-9803-cd030574742c')\"\n",
              "              title=\"Convert this dataframe to an interactive table.\"\n",
              "              style=\"display:none;\">\n",
              "        \n",
              "  <svg xmlns=\"http://www.w3.org/2000/svg\" height=\"24px\"viewBox=\"0 0 24 24\"\n",
              "       width=\"24px\">\n",
              "    <path d=\"M0 0h24v24H0V0z\" fill=\"none\"/>\n",
              "    <path d=\"M18.56 5.44l.94 2.06.94-2.06 2.06-.94-2.06-.94-.94-2.06-.94 2.06-2.06.94zm-11 1L8.5 8.5l.94-2.06 2.06-.94-2.06-.94L8.5 2.5l-.94 2.06-2.06.94zm10 10l.94 2.06.94-2.06 2.06-.94-2.06-.94-.94-2.06-.94 2.06-2.06.94z\"/><path d=\"M17.41 7.96l-1.37-1.37c-.4-.4-.92-.59-1.43-.59-.52 0-1.04.2-1.43.59L10.3 9.45l-7.72 7.72c-.78.78-.78 2.05 0 2.83L4 21.41c.39.39.9.59 1.41.59.51 0 1.02-.2 1.41-.59l7.78-7.78 2.81-2.81c.8-.78.8-2.07 0-2.86zM5.41 20L4 18.59l7.72-7.72 1.47 1.35L5.41 20z\"/>\n",
              "  </svg>\n",
              "      </button>\n",
              "      \n",
              "  <style>\n",
              "    .colab-df-container {\n",
              "      display:flex;\n",
              "      flex-wrap:wrap;\n",
              "      gap: 12px;\n",
              "    }\n",
              "\n",
              "    .colab-df-convert {\n",
              "      background-color: #E8F0FE;\n",
              "      border: none;\n",
              "      border-radius: 50%;\n",
              "      cursor: pointer;\n",
              "      display: none;\n",
              "      fill: #1967D2;\n",
              "      height: 32px;\n",
              "      padding: 0 0 0 0;\n",
              "      width: 32px;\n",
              "    }\n",
              "\n",
              "    .colab-df-convert:hover {\n",
              "      background-color: #E2EBFA;\n",
              "      box-shadow: 0px 1px 2px rgba(60, 64, 67, 0.3), 0px 1px 3px 1px rgba(60, 64, 67, 0.15);\n",
              "      fill: #174EA6;\n",
              "    }\n",
              "\n",
              "    [theme=dark] .colab-df-convert {\n",
              "      background-color: #3B4455;\n",
              "      fill: #D2E3FC;\n",
              "    }\n",
              "\n",
              "    [theme=dark] .colab-df-convert:hover {\n",
              "      background-color: #434B5C;\n",
              "      box-shadow: 0px 1px 3px 1px rgba(0, 0, 0, 0.15);\n",
              "      filter: drop-shadow(0px 1px 2px rgba(0, 0, 0, 0.3));\n",
              "      fill: #FFFFFF;\n",
              "    }\n",
              "  </style>\n",
              "\n",
              "      <script>\n",
              "        const buttonEl =\n",
              "          document.querySelector('#df-5ec5bf31-784d-4447-9803-cd030574742c button.colab-df-convert');\n",
              "        buttonEl.style.display =\n",
              "          google.colab.kernel.accessAllowed ? 'block' : 'none';\n",
              "\n",
              "        async function convertToInteractive(key) {\n",
              "          const element = document.querySelector('#df-5ec5bf31-784d-4447-9803-cd030574742c');\n",
              "          const dataTable =\n",
              "            await google.colab.kernel.invokeFunction('convertToInteractive',\n",
              "                                                     [key], {});\n",
              "          if (!dataTable) return;\n",
              "\n",
              "          const docLinkHtml = 'Like what you see? Visit the ' +\n",
              "            '<a target=\"_blank\" href=https://colab.research.google.com/notebooks/data_table.ipynb>data table notebook</a>'\n",
              "            + ' to learn more about interactive tables.';\n",
              "          element.innerHTML = '';\n",
              "          dataTable['output_type'] = 'display_data';\n",
              "          await google.colab.output.renderOutput(dataTable, element);\n",
              "          const docLink = document.createElement('div');\n",
              "          docLink.innerHTML = docLinkHtml;\n",
              "          element.appendChild(docLink);\n",
              "        }\n",
              "      </script>\n",
              "    </div>\n",
              "  </div>\n",
              "  "
            ]
          },
          "metadata": {},
          "execution_count": 11
        }
      ]
    },
    {
      "cell_type": "code",
      "source": [
        "test.shape"
      ],
      "metadata": {
        "execution": {
          "iopub.status.busy": "2022-12-07T23:20:28.338991Z",
          "iopub.execute_input": "2022-12-07T23:20:28.339419Z",
          "iopub.status.idle": "2022-12-07T23:20:28.347573Z",
          "shell.execute_reply.started": "2022-12-07T23:20:28.339385Z",
          "shell.execute_reply": "2022-12-07T23:20:28.346588Z"
        },
        "trusted": true,
        "id": "27ZWuKZThn18",
        "outputId": "595c80c7-f494-4abb-caa2-a058c61846d4",
        "colab": {
          "base_uri": "https://localhost:8080/"
        }
      },
      "execution_count": 12,
      "outputs": [
        {
          "output_type": "execute_result",
          "data": {
            "text/plain": [
              "(3263, 4)"
            ]
          },
          "metadata": {},
          "execution_count": 12
        }
      ]
    },
    {
      "cell_type": "markdown",
      "source": [
        "## Modelling"
      ],
      "metadata": {
        "id": "uHWq3TaAr2kL"
      }
    },
    {
      "cell_type": "markdown",
      "source": [
        "Among the many design choices for implementation that ultimately did not lead to the best results were using stop words combined with TFIDF Vecotrizer to remove words that did not sufficiently appear. However when using reccurent neural networks, contextual meaning using all words as opposed to reducing to a subset led to better performance.  "
      ],
      "metadata": {
        "id": "dSvmN3ShvlH9"
      }
    },
    {
      "cell_type": "code",
      "source": [
        "encoder = tf.keras.layers.TextVectorization()\n",
        "encoder.adapt(train['text'])"
      ],
      "metadata": {
        "execution": {
          "iopub.status.busy": "2022-12-07T23:20:46.960398Z",
          "iopub.execute_input": "2022-12-07T23:20:46.960735Z",
          "iopub.status.idle": "2022-12-07T23:20:55.615646Z",
          "shell.execute_reply.started": "2022-12-07T23:20:46.960703Z",
          "shell.execute_reply": "2022-12-07T23:20:55.614650Z"
        },
        "trusted": true,
        "id": "ffdFYPGThn2B"
      },
      "execution_count": 16,
      "outputs": []
    },
    {
      "cell_type": "code",
      "source": [
        "len(encoder.get_vocabulary())"
      ],
      "metadata": {
        "colab": {
          "base_uri": "https://localhost:8080/"
        },
        "id": "CLOEz4pISip4",
        "outputId": "a9394582-eb77-4687-bf13-cfd8d3b1b766"
      },
      "execution_count": 17,
      "outputs": [
        {
          "output_type": "execute_result",
          "data": {
            "text/plain": [
              "22699"
            ]
          },
          "metadata": {},
          "execution_count": 17
        }
      ]
    },
    {
      "cell_type": "code",
      "source": [
        "x = encoder(train['text']).numpy()"
      ],
      "metadata": {
        "execution": {
          "iopub.status.busy": "2022-12-07T23:20:55.624447Z",
          "iopub.execute_input": "2022-12-07T23:20:55.625492Z",
          "iopub.status.idle": "2022-12-07T23:20:55.700100Z",
          "shell.execute_reply.started": "2022-12-07T23:20:55.625453Z",
          "shell.execute_reply": "2022-12-07T23:20:55.699007Z"
        },
        "trusted": true,
        "id": "3QyPgbcXhn2B"
      },
      "execution_count": 18,
      "outputs": []
    },
    {
      "cell_type": "code",
      "source": [
        "x.shape"
      ],
      "metadata": {
        "colab": {
          "base_uri": "https://localhost:8080/"
        },
        "id": "0mrolBQVOTDg",
        "outputId": "f8e8357d-3bcb-45ac-ff4b-ef97c4fa8fee"
      },
      "execution_count": 19,
      "outputs": [
        {
          "output_type": "execute_result",
          "data": {
            "text/plain": [
              "(7613, 31)"
            ]
          },
          "metadata": {},
          "execution_count": 19
        }
      ]
    },
    {
      "cell_type": "code",
      "source": [
        "max_review_length = x.shape[1]"
      ],
      "metadata": {
        "execution": {
          "iopub.status.busy": "2022-12-07T23:20:55.702372Z",
          "iopub.execute_input": "2022-12-07T23:20:55.702949Z",
          "iopub.status.idle": "2022-12-07T23:20:55.707231Z",
          "shell.execute_reply.started": "2022-12-07T23:20:55.702910Z",
          "shell.execute_reply": "2022-12-07T23:20:55.706214Z"
        },
        "trusted": true,
        "id": "9_8t-Bifhn2C"
      },
      "execution_count": 20,
      "outputs": []
    },
    {
      "cell_type": "code",
      "source": [
        "y = train['target']"
      ],
      "metadata": {
        "execution": {
          "iopub.status.busy": "2022-12-07T23:20:55.708972Z",
          "iopub.execute_input": "2022-12-07T23:20:55.709463Z",
          "iopub.status.idle": "2022-12-07T23:20:55.717182Z",
          "shell.execute_reply.started": "2022-12-07T23:20:55.709427Z",
          "shell.execute_reply": "2022-12-07T23:20:55.716170Z"
        },
        "trusted": true,
        "id": "obDRTYUmhn2C"
      },
      "execution_count": 21,
      "outputs": []
    },
    {
      "cell_type": "markdown",
      "source": [
        "Test size as a hyperparameter was tuned with values from 0.1 to 0.5 tried with 0.3 achieving the best results."
      ],
      "metadata": {
        "id": "WcWt3idBvN43"
      }
    },
    {
      "cell_type": "code",
      "source": [
        "x_train, x_val, y_train, y_val = train_test_split(x, y, test_size = 0.3, random_state = 0)"
      ],
      "metadata": {
        "execution": {
          "iopub.status.busy": "2022-12-07T23:20:55.720409Z",
          "iopub.execute_input": "2022-12-07T23:20:55.720673Z",
          "iopub.status.idle": "2022-12-07T23:20:55.730196Z",
          "shell.execute_reply.started": "2022-12-07T23:20:55.720648Z",
          "shell.execute_reply": "2022-12-07T23:20:55.729189Z"
        },
        "trusted": true,
        "id": "5rmuyiv-hn2C"
      },
      "execution_count": 22,
      "outputs": []
    },
    {
      "cell_type": "code",
      "source": [
        "## Try repeating below with more models and more hyperparameter tuning."
      ],
      "metadata": {
        "id": "-Yy6E3X_vYif"
      },
      "execution_count": null,
      "outputs": []
    },
    {
      "cell_type": "code",
      "source": [
        "#Change below and run for various models to compare curves / results\n",
        "\n",
        "embedding_vetcor_length = 4\n",
        "input_dim = len(encoder.get_vocabulary())\n",
        "\n",
        "# fix random seed for reproducibility\n",
        "tf.random.set_seed(0)\n",
        "\n",
        "model1 = Sequential()\n",
        "model1.add(Embedding(input_dim, embedding_vetcor_length, input_length=max_review_length, mask_zero=True))\n",
        "model1.add(GRU(4))\n",
        "model1.add(Dense(1, activation='sigmoid'))\n",
        "model1.compile(loss='binary_crossentropy', optimizer='adam', metrics=['accuracy'])\n",
        "model1.summary()\n",
        "\n",
        "callback = keras.callbacks.EarlyStopping(monitor='val_accuracy', patience=3, restore_best_weights = True)\n",
        "model1.compile(loss='binary_crossentropy', optimizer='adam', metrics=['accuracy'])\n",
        "history = model1.fit(x_train, y_train, epochs=10, callbacks = [callback],\n",
        "                    validation_data=(x_val, y_val))"
      ],
      "metadata": {
        "colab": {
          "base_uri": "https://localhost:8080/"
        },
        "id": "CkC03JX-wOsl",
        "outputId": "11d3c83f-744f-45d4-995f-9264269f250e"
      },
      "execution_count": 39,
      "outputs": [
        {
          "output_type": "stream",
          "name": "stdout",
          "text": [
            "Model: \"sequential_1\"\n",
            "_________________________________________________________________\n",
            " Layer (type)                Output Shape              Param #   \n",
            "=================================================================\n",
            " embedding_1 (Embedding)     (None, 31, 4)             90796     \n",
            "                                                                 \n",
            " gru_1 (GRU)                 (None, 4)                 120       \n",
            "                                                                 \n",
            " dense_1 (Dense)             (None, 1)                 5         \n",
            "                                                                 \n",
            "=================================================================\n",
            "Total params: 90,921\n",
            "Trainable params: 90,921\n",
            "Non-trainable params: 0\n",
            "_________________________________________________________________\n",
            "Epoch 1/10\n",
            "167/167 [==============================] - 11s 35ms/step - loss: 0.6828 - accuracy: 0.5603 - val_loss: 0.6646 - val_accuracy: 0.5858\n",
            "Epoch 2/10\n",
            "167/167 [==============================] - 4s 25ms/step - loss: 0.5836 - accuracy: 0.6938 - val_loss: 0.5019 - val_accuracy: 0.7877\n",
            "Epoch 3/10\n",
            "167/167 [==============================] - 4s 26ms/step - loss: 0.3531 - accuracy: 0.8707 - val_loss: 0.4709 - val_accuracy: 0.7977\n",
            "Epoch 4/10\n",
            "167/167 [==============================] - 4s 24ms/step - loss: 0.2154 - accuracy: 0.9283 - val_loss: 0.5173 - val_accuracy: 0.7697\n",
            "Epoch 5/10\n",
            "167/167 [==============================] - 4s 25ms/step - loss: 0.1441 - accuracy: 0.9578 - val_loss: 0.5324 - val_accuracy: 0.7802\n",
            "Epoch 6/10\n",
            "167/167 [==============================] - 6s 35ms/step - loss: 0.0969 - accuracy: 0.9730 - val_loss: 0.6233 - val_accuracy: 0.7640\n"
          ]
        }
      ]
    },
    {
      "cell_type": "code",
      "source": [
        "embedding_vetcor_length = 4\n",
        "input_dim = len(encoder.get_vocabulary())\n",
        "\n",
        "# fix random seed for reproducibility\n",
        "tf.random.set_seed(0)\n",
        "\n",
        "model = Sequential()\n",
        "model.add(Embedding(input_dim, embedding_vetcor_length, input_length=max_review_length, mask_zero=True))\n",
        "model.add(GRU(4))\n",
        "model.add(Dense(1, activation='sigmoid'))\n",
        "model.compile(loss='binary_crossentropy', optimizer='adam', metrics=['accuracy'])\n",
        "model.summary()"
      ],
      "metadata": {
        "execution": {
          "iopub.status.busy": "2022-12-07T23:20:55.745770Z",
          "iopub.execute_input": "2022-12-07T23:20:55.746243Z",
          "iopub.status.idle": "2022-12-07T23:20:55.857883Z",
          "shell.execute_reply.started": "2022-12-07T23:20:55.746208Z",
          "shell.execute_reply": "2022-12-07T23:20:55.856778Z"
        },
        "trusted": true,
        "id": "E7SanVpkhn2D",
        "outputId": "5ebd9537-a216-485e-835a-cb9541ff76cd",
        "colab": {
          "base_uri": "https://localhost:8080/"
        }
      },
      "execution_count": 23,
      "outputs": [
        {
          "output_type": "stream",
          "name": "stdout",
          "text": [
            "Model: \"sequential\"\n",
            "_________________________________________________________________\n",
            " Layer (type)                Output Shape              Param #   \n",
            "=================================================================\n",
            " embedding (Embedding)       (None, 31, 4)             90796     \n",
            "                                                                 \n",
            " gru (GRU)                   (None, 4)                 120       \n",
            "                                                                 \n",
            " dense (Dense)               (None, 1)                 5         \n",
            "                                                                 \n",
            "=================================================================\n",
            "Total params: 90,921\n",
            "Trainable params: 90,921\n",
            "Non-trainable params: 0\n",
            "_________________________________________________________________\n"
          ]
        }
      ]
    },
    {
      "cell_type": "markdown",
      "source": [
        "Many hyperparameters tuned to make sure that the model was not too large. Many think were tried including RNNs and LSTMs with more and fewer nodes as well as \n",
        "\n",
        "Same with below with regards to early stopping to avoid overfitting as it was fititing to training set too quickly."
      ],
      "metadata": {
        "id": "mPqHsp8Lu_Lu"
      }
    },
    {
      "cell_type": "code",
      "source": [
        "callback = keras.callbacks.EarlyStopping(monitor='val_accuracy', patience=3, restore_best_weights = True)\n",
        "model.compile(loss='binary_crossentropy', optimizer='adam', metrics=['accuracy'])\n",
        "history = model.fit(x_train, y_train, epochs=10, callbacks = [callback],\n",
        "                    validation_data=(x_val, y_val))"
      ],
      "metadata": {
        "execution": {
          "iopub.status.busy": "2022-12-07T23:20:55.878286Z",
          "iopub.execute_input": "2022-12-07T23:20:55.879035Z",
          "iopub.status.idle": "2022-12-07T23:21:22.657880Z",
          "shell.execute_reply.started": "2022-12-07T23:20:55.879000Z",
          "shell.execute_reply": "2022-12-07T23:21:22.656944Z"
        },
        "trusted": true,
        "id": "PW_Of6iYhn2E",
        "outputId": "0d69b394-806a-4d9d-c76a-31879aacc6bd",
        "colab": {
          "base_uri": "https://localhost:8080/"
        }
      },
      "execution_count": 25,
      "outputs": [
        {
          "output_type": "stream",
          "name": "stdout",
          "text": [
            "Epoch 1/10\n",
            "167/167 [==============================] - 11s 36ms/step - loss: 0.6828 - accuracy: 0.5603 - val_loss: 0.6646 - val_accuracy: 0.5858\n",
            "Epoch 2/10\n",
            "167/167 [==============================] - 4s 25ms/step - loss: 0.5836 - accuracy: 0.6938 - val_loss: 0.5019 - val_accuracy: 0.7877\n",
            "Epoch 3/10\n",
            "167/167 [==============================] - 4s 26ms/step - loss: 0.3531 - accuracy: 0.8707 - val_loss: 0.4709 - val_accuracy: 0.7977\n",
            "Epoch 4/10\n",
            "167/167 [==============================] - 4s 26ms/step - loss: 0.2154 - accuracy: 0.9283 - val_loss: 0.5173 - val_accuracy: 0.7697\n",
            "Epoch 5/10\n",
            "167/167 [==============================] - 6s 36ms/step - loss: 0.1441 - accuracy: 0.9578 - val_loss: 0.5324 - val_accuracy: 0.7802\n",
            "Epoch 6/10\n",
            "167/167 [==============================] - 6s 38ms/step - loss: 0.0969 - accuracy: 0.9730 - val_loss: 0.6233 - val_accuracy: 0.7640\n"
          ]
        }
      ]
    },
    {
      "cell_type": "code",
      "source": [
        "plt.plot(range(1,len(history.history['loss']) + 1), history.history['loss'])\n",
        "plt.plot(range(1, len(history.history['loss']) + 1) , history.history['val_loss'])\n",
        "plt.title('BCE Loss over epochs')\n",
        "plt.ylabel('Binary Crossentropy')\n",
        "plt.xlabel('Epoch')\n",
        "plt.legend(['Train', 'Validation'], loc='best')\n",
        "plt.show()"
      ],
      "metadata": {
        "colab": {
          "base_uri": "https://localhost:8080/",
          "height": 295
        },
        "id": "KtNfoVoLs6A7",
        "outputId": "11b13941-4782-4437-9ca4-5c28feb1b06a"
      },
      "execution_count": 35,
      "outputs": [
        {
          "output_type": "display_data",
          "data": {
            "text/plain": [
              "<Figure size 432x288 with 1 Axes>"
            ],
            "image/png": "[encoded data removed]"
          },
          "metadata": {
            "needs_background": "light"
          }
        }
      ]
    },
    {
      "cell_type": "code",
      "source": [
        "plt.plot(range(1,len(history.history['loss']) + 1), history.history['accuracy'])\n",
        "plt.plot(range(1, len(history.history['loss']) + 1) , history.history['val_accuracy'])\n",
        "plt.title('Accuracy over epochs')\n",
        "plt.ylabel('Accuracy')\n",
        "plt.xlabel('Epoch')\n",
        "plt.legend(['Train', 'Validation'], loc='best')\n",
        "plt.show()"
      ],
      "metadata": {
        "colab": {
          "base_uri": "https://localhost:8080/",
          "height": 295
        },
        "id": "Dp5MM9ywtUUQ",
        "outputId": "09cfa225-8b8b-4007-e04d-5609aca4fef9"
      },
      "execution_count": 36,
      "outputs": [
        {
          "output_type": "display_data",
          "data": {
            "text/plain": [
              "<Figure size 432x288 with 1 Axes>"
            ],
            "image/png": "[encoded data removed]"
          },
          "metadata": {
            "needs_background": "light"
          }
        }
      ]
    },
    {
      "cell_type": "markdown",
      "source": [
        "As can be seen from the loss and accuracy curves, fitting to training continues to improve with so many parameters "
      ],
      "metadata": {
        "id": "CSOuS61-wFjH"
      }
    },
    {
      "cell_type": "code",
      "source": [
        "y_train.shape"
      ],
      "metadata": {
        "execution": {
          "iopub.status.busy": "2022-12-07T23:21:22.660187Z",
          "iopub.execute_input": "2022-12-07T23:21:22.661175Z",
          "iopub.status.idle": "2022-12-07T23:21:22.671178Z",
          "shell.execute_reply.started": "2022-12-07T23:21:22.661134Z",
          "shell.execute_reply": "2022-12-07T23:21:22.667270Z"
        },
        "trusted": true,
        "id": "LLe_QxL6hn2F",
        "outputId": "66b25c2a-513d-4306-a3cc-9dba22ba2285",
        "colab": {
          "base_uri": "https://localhost:8080/"
        }
      },
      "execution_count": 26,
      "outputs": [
        {
          "output_type": "execute_result",
          "data": {
            "text/plain": [
              "(5329,)"
            ]
          },
          "metadata": {},
          "execution_count": 26
        }
      ]
    },
    {
      "cell_type": "code",
      "source": [
        "test_vec = encoder(test['text']).numpy()"
      ],
      "metadata": {
        "execution": {
          "iopub.status.busy": "2022-12-07T23:21:22.672515Z",
          "iopub.execute_input": "2022-12-07T23:21:22.672973Z",
          "iopub.status.idle": "2022-12-07T23:21:22.726410Z",
          "shell.execute_reply.started": "2022-12-07T23:21:22.672935Z",
          "shell.execute_reply": "2022-12-07T23:21:22.725511Z"
        },
        "trusted": true,
        "id": "Lw9xvwIChn2F"
      },
      "execution_count": 27,
      "outputs": []
    },
    {
      "cell_type": "code",
      "source": [
        "train_preds = np.round(model.predict(x))\n",
        "train_preds = [int(i) for i in train_preds]"
      ],
      "metadata": {
        "execution": {
          "iopub.status.busy": "2022-12-07T23:21:22.761172Z",
          "iopub.execute_input": "2022-12-07T23:21:22.761829Z",
          "iopub.status.idle": "2022-12-07T23:21:23.701595Z",
          "shell.execute_reply.started": "2022-12-07T23:21:22.761784Z",
          "shell.execute_reply": "2022-12-07T23:21:23.700557Z"
        },
        "trusted": true,
        "id": "O8IPJlz8hn2G",
        "colab": {
          "base_uri": "https://localhost:8080/"
        },
        "outputId": "f844d1ae-ae10-4a67-d5f3-9f6efcff411a"
      },
      "execution_count": 28,
      "outputs": [
        {
          "output_type": "stream",
          "name": "stdout",
          "text": [
            "238/238 [==============================] - 3s 5ms/step\n"
          ]
        }
      ]
    },
    {
      "cell_type": "code",
      "source": [
        "np.mean(train_preds == train['target'])"
      ],
      "metadata": {
        "execution": {
          "iopub.status.busy": "2022-12-07T23:21:23.704982Z",
          "iopub.execute_input": "2022-12-07T23:21:23.705280Z",
          "iopub.status.idle": "2022-12-07T23:21:23.714796Z",
          "shell.execute_reply.started": "2022-12-07T23:21:23.705253Z",
          "shell.execute_reply": "2022-12-07T23:21:23.713809Z"
        },
        "trusted": true,
        "id": "Iv25xZ9uhn2H",
        "outputId": "616201bb-38f9-40d8-9cb2-2badd4515e3f",
        "colab": {
          "base_uri": "https://localhost:8080/"
        }
      },
      "execution_count": 29,
      "outputs": [
        {
          "output_type": "execute_result",
          "data": {
            "text/plain": [
              "0.8899251280704059"
            ]
          },
          "metadata": {},
          "execution_count": 29
        }
      ]
    },
    {
      "cell_type": "code",
      "source": [
        "np.mean(train_preds)"
      ],
      "metadata": {
        "colab": {
          "base_uri": "https://localhost:8080/"
        },
        "id": "pev-GhrEV8e8",
        "outputId": "b40de495-e608-49af-a1b6-cf39d8d4b3d6"
      },
      "execution_count": 30,
      "outputs": [
        {
          "output_type": "execute_result",
          "data": {
            "text/plain": [
              "0.4020753973466439"
            ]
          },
          "metadata": {},
          "execution_count": 30
        }
      ]
    },
    {
      "cell_type": "code",
      "source": [
        "## Add confusion matrix to compare with validation to see where model struggles."
      ],
      "metadata": {
        "id": "VS2uMHXgusco"
      },
      "execution_count": null,
      "outputs": []
    },
    {
      "cell_type": "code",
      "source": [
        "test_vec.shape"
      ],
      "metadata": {
        "execution": {
          "iopub.status.busy": "2022-12-07T23:21:23.716513Z",
          "iopub.execute_input": "2022-12-07T23:21:23.717266Z",
          "iopub.status.idle": "2022-12-07T23:21:23.724118Z",
          "shell.execute_reply.started": "2022-12-07T23:21:23.717211Z",
          "shell.execute_reply": "2022-12-07T23:21:23.723033Z"
        },
        "trusted": true,
        "id": "G2mQXLu5hn2H",
        "outputId": "fa2fdf58-2d58-4442-9104-d048900391db",
        "colab": {
          "base_uri": "https://localhost:8080/"
        }
      },
      "execution_count": 31,
      "outputs": [
        {
          "output_type": "execute_result",
          "data": {
            "text/plain": [
              "(3263, 31)"
            ]
          },
          "metadata": {},
          "execution_count": 31
        }
      ]
    },
    {
      "cell_type": "code",
      "source": [
        "preds = np.round(model.predict(test_vec))\n",
        "preds = [int(i) for i in preds]"
      ],
      "metadata": {
        "execution": {
          "iopub.status.busy": "2022-12-07T23:21:23.725735Z",
          "iopub.execute_input": "2022-12-07T23:21:23.726371Z",
          "iopub.status.idle": "2022-12-07T23:21:24.272983Z",
          "shell.execute_reply.started": "2022-12-07T23:21:23.726321Z",
          "shell.execute_reply": "2022-12-07T23:21:24.272004Z"
        },
        "trusted": true,
        "id": "yEb3YAw2hn2I",
        "colab": {
          "base_uri": "https://localhost:8080/"
        },
        "outputId": "f8eee644-dc16-45d9-d775-461c4ab543d6"
      },
      "execution_count": 32,
      "outputs": [
        {
          "output_type": "stream",
          "name": "stdout",
          "text": [
            "102/102 [==============================] - 1s 6ms/step\n"
          ]
        }
      ]
    },
    {
      "cell_type": "code",
      "source": [
        "np.mean(preds)"
      ],
      "metadata": {
        "execution": {
          "iopub.status.busy": "2022-12-07T23:21:24.274216Z",
          "iopub.execute_input": "2022-12-07T23:21:24.274575Z",
          "iopub.status.idle": "2022-12-07T23:21:24.281998Z",
          "shell.execute_reply.started": "2022-12-07T23:21:24.274540Z",
          "shell.execute_reply": "2022-12-07T23:21:24.281049Z"
        },
        "trusted": true,
        "id": "RnV3aX9Nhn2I",
        "outputId": "da9d3160-c03d-4606-92f5-7d94d41f1600",
        "colab": {
          "base_uri": "https://localhost:8080/"
        }
      },
      "execution_count": 33,
      "outputs": [
        {
          "output_type": "execute_result",
          "data": {
            "text/plain": [
              "0.363162733680662"
            ]
          },
          "metadata": {},
          "execution_count": 33
        }
      ]
    },
    {
      "cell_type": "code",
      "source": [
        "sub = pd.read_csv('../input/nlp-getting-started/sample_submission.csv')\n",
        "sub['target'] = preds\n",
        "sub.head()"
      ],
      "metadata": {
        "execution": {
          "iopub.status.busy": "2022-12-08T16:30:40.352364Z",
          "iopub.execute_input": "2022-12-08T16:30:40.352861Z",
          "iopub.status.idle": "2022-12-08T16:30:40.369907Z",
          "shell.execute_reply.started": "2022-12-08T16:30:40.352822Z",
          "shell.execute_reply": "2022-12-08T16:30:40.368644Z"
        },
        "trusted": true,
        "id": "hqLbReTgl0Sa",
        "outputId": "c287c079-87d2-41cc-eda3-0ebb88b10f16"
      },
      "execution_count": null,
      "outputs": [
        {
          "execution_count": 53,
          "output_type": "execute_result",
          "data": {
            "text/plain": "   id  target\n0   0       1\n1   2       0\n2   3       1\n3   9       1\n4  11       1",
            "text/html": "<div>\n<style scoped>\n    .dataframe tbody tr th:only-of-type {\n        vertical-align: middle;\n    }\n\n    .dataframe tbody tr th {\n        vertical-align: top;\n    }\n\n    .dataframe thead th {\n        text-align: right;\n    }\n</style>\n<table border=\"1\" class=\"dataframe\">\n  <thead>\n    <tr style=\"text-align: right;\">\n      <th></th>\n      <th>id</th>\n      <th>target</th>\n    </tr>\n  </thead>\n  <tbody>\n    <tr>\n      <th>0</th>\n      <td>0</td>\n      <td>1</td>\n    </tr>\n    <tr>\n      <th>1</th>\n      <td>2</td>\n      <td>0</td>\n    </tr>\n    <tr>\n      <th>2</th>\n      <td>3</td>\n      <td>1</td>\n    </tr>\n    <tr>\n      <th>3</th>\n      <td>9</td>\n      <td>1</td>\n    </tr>\n    <tr>\n      <th>4</th>\n      <td>11</td>\n      <td>1</td>\n    </tr>\n  </tbody>\n</table>\n</div>"
          },
          "metadata": {}
        }
      ]
    },
    {
      "cell_type": "code",
      "source": [
        "sub.to_csv('submission.csv', index=False)"
      ],
      "metadata": {
        "id": "jtZUuls4mEMy"
      },
      "execution_count": null,
      "outputs": []
    },
    {
      "cell_type": "markdown",
      "source": [
        "## Results Summary"
      ],
      "metadata": {
        "id": "751FiFZ6mFml"
      }
    },
    {
      "cell_type": "markdown",
      "source": [
        "0.78455 accuracy was achieved on the test set upon submission of the above best model to Kaggle. This was the highest score achieved on the test set and is quite close to accuracy on the validation set.\n",
        "\n",
        "However one issue persists in that training for \n",
        "\n",
        "Perhaps dropout layers could mitigate the overfitting or additional care in encoding \n",
        "\n",
        "When the model parameters were reduced substantially, there stil wasn't much improvement in out of sample loss and accuracy even if there was less overfitting on the training data."
      ],
      "metadata": {
        "id": "8ZZK-tD7mKIz"
      }
    }
  ]
}