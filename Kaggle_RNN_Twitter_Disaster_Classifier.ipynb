{
  "metadata": {
    "kernelspec": {
      "language": "python",
      "display_name": "Python 3",
      "name": "python3"
    },
    "language_info": {
      "name": "python",
      "version": "3.7.12",
      "mimetype": "text/x-python",
      "codemirror_mode": {
        "name": "ipython",
        "version": 3
      },
      "pygments_lexer": "ipython3",
      "nbconvert_exporter": "python",
      "file_extension": ".py"
    },
    "colab": {
      "provenance": [],
      "toc_visible": true
    }
  },
  "nbformat_minor": 0,
  "nbformat": 4,
  "cells": [
    {
      "cell_type": "markdown",
      "source": [
        "# RNN Twitter Disaster Classifier"
      ],
      "metadata": {
        "id": "XgIdB8cKrDjv"
      }
    },
    {
      "cell_type": "markdown",
      "source": [
        "## Imports"
      ],
      "metadata": {
        "id": "eXjJslKyhn1o"
      }
    },
    {
      "cell_type": "code",
      "source": [
        "import numpy as np \n",
        "import pandas as pd\n",
        "import matplotlib.pyplot as plt\n",
        "from sklearn import preprocessing \n",
        "import itertools\n",
        "from sklearn.model_selection import train_test_split\n",
        "import tensorflow as tf\n",
        "from tensorflow.keras.models import Sequential\n",
        "from tensorflow.keras.layers import Dense\n",
        "from tensorflow.keras.layers import LSTM, GRU, SimpleRNN\n",
        "from tensorflow.keras.layers import Embedding\n",
        "from tensorflow import keras\n",
        "from sklearn.metrics import confusion_matrix, ConfusionMatrixDisplay"
      ],
      "metadata": {
        "_uuid": "8f2839f25d086af736a60e9eeb907d3b93b6e0e5",
        "_cell_guid": "b1076dfc-b9ad-4769-8c92-a6c4dae69d19",
        "execution": {
          "iopub.status.busy": "2022-12-07T23:20:25.333401Z",
          "iopub.execute_input": "2022-12-07T23:20:25.333850Z",
          "iopub.status.idle": "2022-12-07T23:20:26.996445Z",
          "shell.execute_reply.started": "2022-12-07T23:20:25.333768Z",
          "shell.execute_reply": "2022-12-07T23:20:26.995391Z"
        },
        "trusted": true,
        "id": "nGoh6-GHhn1r"
      },
      "execution_count": 45,
      "outputs": []
    },
    {
      "cell_type": "markdown",
      "source": [
        "## Loading Data"
      ],
      "metadata": {
        "id": "LAtKsTl-mXQe"
      }
    },
    {
      "cell_type": "code",
      "source": [
        "train = pd.read_csv('../input/nlp-getting-started/train.csv')\n",
        "test = pd.read_csv('../input/nlp-getting-started/test.csv')"
      ],
      "metadata": {
        "id": "SrAJYVrqjBNF"
      },
      "execution_count": null,
      "outputs": []
    },
    {
      "cell_type": "markdown",
      "source": [
        "## Exploratory Data Analysis (EDA)"
      ],
      "metadata": {
        "id": "aFmz3WE1m2Zy"
      }
    },
    {
      "cell_type": "code",
      "source": [
        "train.head()"
      ],
      "metadata": {
        "execution": {
          "iopub.status.busy": "2022-12-07T23:20:27.359070Z",
          "iopub.execute_input": "2022-12-07T23:20:27.359440Z",
          "iopub.status.idle": "2022-12-07T23:20:27.374171Z",
          "shell.execute_reply.started": "2022-12-07T23:20:27.359404Z",
          "shell.execute_reply": "2022-12-07T23:20:27.373301Z"
        },
        "trusted": true,
        "id": "apHW87sphn1w",
        "outputId": "467de5e1-58db-402e-a34a-ea0f9b9466e9",
        "colab": {
          "base_uri": "https://localhost:8080/",
          "height": 206
        }
      },
      "execution_count": 4,
      "outputs": [
        {
          "output_type": "execute_result",
          "data": {
            "text/plain": [
              "   id keyword location                                               text  \\\n",
              "0   1     NaN      NaN  Our Deeds are the Reason of this #earthquake M...   \n",
              "1   4     NaN      NaN             Forest fire near La Ronge Sask. Canada   \n",
              "2   5     NaN      NaN  All residents asked to 'shelter in place' are ...   \n",
              "3   6     NaN      NaN  13,000 people receive #wildfires evacuation or...   \n",
              "4   7     NaN      NaN  Just got sent this photo from Ruby #Alaska as ...   \n",
              "\n",
              "   target  \n",
              "0       1  \n",
              "1       1  \n",
              "2       1  \n",
              "3       1  \n",
              "4       1  "
            ],
            "text/html": [
              "\n",
              "  <div id=\"df-3bda0549-c5a4-4adc-9ac2-1db374d34b6c\">\n",
              "    <div class=\"colab-df-container\">\n",
              "      <div>\n",
              "<style scoped>\n",
              "    .dataframe tbody tr th:only-of-type {\n",
              "        vertical-align: middle;\n",
              "    }\n",
              "\n",
              "    .dataframe tbody tr th {\n",
              "        vertical-align: top;\n",
              "    }\n",
              "\n",
              "    .dataframe thead th {\n",
              "        text-align: right;\n",
              "    }\n",
              "</style>\n",
              "<table border=\"1\" class=\"dataframe\">\n",
              "  <thead>\n",
              "    <tr style=\"text-align: right;\">\n",
              "      <th></th>\n",
              "      <th>id</th>\n",
              "      <th>keyword</th>\n",
              "      <th>location</th>\n",
              "      <th>text</th>\n",
              "      <th>target</th>\n",
              "    </tr>\n",
              "  </thead>\n",
              "  <tbody>\n",
              "    <tr>\n",
              "      <th>0</th>\n",
              "      <td>1</td>\n",
              "      <td>NaN</td>\n",
              "      <td>NaN</td>\n",
              "      <td>Our Deeds are the Reason of this #earthquake M...</td>\n",
              "      <td>1</td>\n",
              "    </tr>\n",
              "    <tr>\n",
              "      <th>1</th>\n",
              "      <td>4</td>\n",
              "      <td>NaN</td>\n",
              "      <td>NaN</td>\n",
              "      <td>Forest fire near La Ronge Sask. Canada</td>\n",
              "      <td>1</td>\n",
              "    </tr>\n",
              "    <tr>\n",
              "      <th>2</th>\n",
              "      <td>5</td>\n",
              "      <td>NaN</td>\n",
              "      <td>NaN</td>\n",
              "      <td>All residents asked to 'shelter in place' are ...</td>\n",
              "      <td>1</td>\n",
              "    </tr>\n",
              "    <tr>\n",
              "      <th>3</th>\n",
              "      <td>6</td>\n",
              "      <td>NaN</td>\n",
              "      <td>NaN</td>\n",
              "      <td>13,000 people receive #wildfires evacuation or...</td>\n",
              "      <td>1</td>\n",
              "    </tr>\n",
              "    <tr>\n",
              "      <th>4</th>\n",
              "      <td>7</td>\n",
              "      <td>NaN</td>\n",
              "      <td>NaN</td>\n",
              "      <td>Just got sent this photo from Ruby #Alaska as ...</td>\n",
              "      <td>1</td>\n",
              "    </tr>\n",
              "  </tbody>\n",
              "</table>\n",
              "</div>\n",
              "      <button class=\"colab-df-convert\" onclick=\"convertToInteractive('df-3bda0549-c5a4-4adc-9ac2-1db374d34b6c')\"\n",
              "              title=\"Convert this dataframe to an interactive table.\"\n",
              "              style=\"display:none;\">\n",
              "        \n",
              "  <svg xmlns=\"http://www.w3.org/2000/svg\" height=\"24px\"viewBox=\"0 0 24 24\"\n",
              "       width=\"24px\">\n",
              "    <path d=\"M0 0h24v24H0V0z\" fill=\"none\"/>\n",
              "    <path d=\"M18.56 5.44l.94 2.06.94-2.06 2.06-.94-2.06-.94-.94-2.06-.94 2.06-2.06.94zm-11 1L8.5 8.5l.94-2.06 2.06-.94-2.06-.94L8.5 2.5l-.94 2.06-2.06.94zm10 10l.94 2.06.94-2.06 2.06-.94-2.06-.94-.94-2.06-.94 2.06-2.06.94z\"/><path d=\"M17.41 7.96l-1.37-1.37c-.4-.4-.92-.59-1.43-.59-.52 0-1.04.2-1.43.59L10.3 9.45l-7.72 7.72c-.78.78-.78 2.05 0 2.83L4 21.41c.39.39.9.59 1.41.59.51 0 1.02-.2 1.41-.59l7.78-7.78 2.81-2.81c.8-.78.8-2.07 0-2.86zM5.41 20L4 18.59l7.72-7.72 1.47 1.35L5.41 20z\"/>\n",
              "  </svg>\n",
              "      </button>\n",
              "      \n",
              "  <style>\n",
              "    .colab-df-container {\n",
              "      display:flex;\n",
              "      flex-wrap:wrap;\n",
              "      gap: 12px;\n",
              "    }\n",
              "\n",
              "    .colab-df-convert {\n",
              "      background-color: #E8F0FE;\n",
              "      border: none;\n",
              "      border-radius: 50%;\n",
              "      cursor: pointer;\n",
              "      display: none;\n",
              "      fill: #1967D2;\n",
              "      height: 32px;\n",
              "      padding: 0 0 0 0;\n",
              "      width: 32px;\n",
              "    }\n",
              "\n",
              "    .colab-df-convert:hover {\n",
              "      background-color: #E2EBFA;\n",
              "      box-shadow: 0px 1px 2px rgba(60, 64, 67, 0.3), 0px 1px 3px 1px rgba(60, 64, 67, 0.15);\n",
              "      fill: #174EA6;\n",
              "    }\n",
              "\n",
              "    [theme=dark] .colab-df-convert {\n",
              "      background-color: #3B4455;\n",
              "      fill: #D2E3FC;\n",
              "    }\n",
              "\n",
              "    [theme=dark] .colab-df-convert:hover {\n",
              "      background-color: #434B5C;\n",
              "      box-shadow: 0px 1px 3px 1px rgba(0, 0, 0, 0.15);\n",
              "      filter: drop-shadow(0px 1px 2px rgba(0, 0, 0, 0.3));\n",
              "      fill: #FFFFFF;\n",
              "    }\n",
              "  </style>\n",
              "\n",
              "      <script>\n",
              "        const buttonEl =\n",
              "          document.querySelector('#df-3bda0549-c5a4-4adc-9ac2-1db374d34b6c button.colab-df-convert');\n",
              "        buttonEl.style.display =\n",
              "          google.colab.kernel.accessAllowed ? 'block' : 'none';\n",
              "\n",
              "        async function convertToInteractive(key) {\n",
              "          const element = document.querySelector('#df-3bda0549-c5a4-4adc-9ac2-1db374d34b6c');\n",
              "          const dataTable =\n",
              "            await google.colab.kernel.invokeFunction('convertToInteractive',\n",
              "                                                     [key], {});\n",
              "          if (!dataTable) return;\n",
              "\n",
              "          const docLinkHtml = 'Like what you see? Visit the ' +\n",
              "            '<a target=\"_blank\" href=https://colab.research.google.com/notebooks/data_table.ipynb>data table notebook</a>'\n",
              "            + ' to learn more about interactive tables.';\n",
              "          element.innerHTML = '';\n",
              "          dataTable['output_type'] = 'display_data';\n",
              "          await google.colab.output.renderOutput(dataTable, element);\n",
              "          const docLink = document.createElement('div');\n",
              "          docLink.innerHTML = docLinkHtml;\n",
              "          element.appendChild(docLink);\n",
              "        }\n",
              "      </script>\n",
              "    </div>\n",
              "  </div>\n",
              "  "
            ]
          },
          "metadata": {},
          "execution_count": 4
        }
      ]
    },
    {
      "cell_type": "code",
      "source": [
        "train.shape"
      ],
      "metadata": {
        "execution": {
          "iopub.status.busy": "2022-12-07T23:20:27.375558Z",
          "iopub.execute_input": "2022-12-07T23:20:27.375905Z",
          "iopub.status.idle": "2022-12-07T23:20:27.384297Z",
          "shell.execute_reply.started": "2022-12-07T23:20:27.375872Z",
          "shell.execute_reply": "2022-12-07T23:20:27.383387Z"
        },
        "trusted": true,
        "id": "x0vtJcsxhn1x",
        "outputId": "102482eb-43b2-43e1-d043-4df9da97e692",
        "colab": {
          "base_uri": "https://localhost:8080/"
        }
      },
      "execution_count": 5,
      "outputs": [
        {
          "output_type": "execute_result",
          "data": {
            "text/plain": [
              "(7613, 5)"
            ]
          },
          "metadata": {},
          "execution_count": 5
        }
      ]
    },
    {
      "cell_type": "markdown",
      "source": [
        "There are 7613 tweets in the training data set with 5 associated fields for each tweet. As the aim of this work is to emphasize the utilization of recurrent neural networks on text classification, our focus will be on using the 'text' field to predict the 'target' field. A more robust model would make use of the other features in addition in a hybrid format but as already mentioned, modeling sequential text within a tweet is the aim here. A value of 1 in this field indicates that the tweet is about a real disaster. Determining which tweets are about disasters is the aim of the classifier."
      ],
      "metadata": {
        "id": "ybcujPoGmszj"
      }
    },
    {
      "cell_type": "code",
      "source": [
        "np.mean(train['target'])"
      ],
      "metadata": {
        "execution": {
          "iopub.status.busy": "2022-12-07T23:20:27.385666Z",
          "iopub.execute_input": "2022-12-07T23:20:27.386071Z",
          "iopub.status.idle": "2022-12-07T23:20:27.397295Z",
          "shell.execute_reply.started": "2022-12-07T23:20:27.386037Z",
          "shell.execute_reply": "2022-12-07T23:20:27.396109Z"
        },
        "trusted": true,
        "id": "Hv_Yv2CQhn1x",
        "outputId": "6caadadd-be8b-45f2-e60b-62d1647ba50e",
        "colab": {
          "base_uri": "https://localhost:8080/"
        }
      },
      "execution_count": 6,
      "outputs": [
        {
          "output_type": "execute_result",
          "data": {
            "text/plain": [
              "0.4296597924602653"
            ]
          },
          "metadata": {},
          "execution_count": 6
        }
      ]
    },
    {
      "cell_type": "markdown",
      "source": [
        "Almost 43% of tweets are about a disaster. The data set is curated for the classification task as in reality the proportion of tweets fitting into this category would be substantially lower. Having nearly balanced data will allow for accuracy to be used as a reasonable metric, with models ranked on the test set by accuracy. "
      ],
      "metadata": {
        "id": "hVx4IqwsnFf8"
      }
    },
    {
      "cell_type": "code",
      "source": [
        "np.array(train[train['target'] == 1]['text'])[:5]"
      ],
      "metadata": {
        "colab": {
          "base_uri": "https://localhost:8080/"
        },
        "id": "PkQ01MKsxFVX",
        "outputId": "1d05d276-5276-48c1-d08a-91e9b51a4214"
      },
      "execution_count": 7,
      "outputs": [
        {
          "output_type": "execute_result",
          "data": {
            "text/plain": [
              "array(['Our Deeds are the Reason of this #earthquake May ALLAH Forgive us all',\n",
              "       'Forest fire near La Ronge Sask. Canada',\n",
              "       \"All residents asked to 'shelter in place' are being notified by officers. No other evacuation or shelter in place orders are expected\",\n",
              "       '13,000 people receive #wildfires evacuation orders in California ',\n",
              "       'Just got sent this photo from Ruby #Alaska as smoke from #wildfires pours into a school '],\n",
              "      dtype=object)"
            ]
          },
          "metadata": {},
          "execution_count": 7
        }
      ]
    },
    {
      "cell_type": "code",
      "source": [
        "np.array(train[train['target'] == 0]['text'])[:5]"
      ],
      "metadata": {
        "colab": {
          "base_uri": "https://localhost:8080/"
        },
        "id": "ZO3xLmz5xVSk",
        "outputId": "1cb9217f-5cb5-425a-d1b8-800fae9ce95a"
      },
      "execution_count": 8,
      "outputs": [
        {
          "output_type": "execute_result",
          "data": {
            "text/plain": [
              "array([\"What's up man?\", 'I love fruits', 'Summer is lovely',\n",
              "       'My car is so fast', 'What a goooooooaaaaaal!!!!!!'], dtype=object)"
            ]
          },
          "metadata": {},
          "execution_count": 8
        }
      ]
    },
    {
      "cell_type": "markdown",
      "source": [
        "Above are the full text of five tweets that are about disasters and  below are five that are not. The above samples should be fairly easy to classify. "
      ],
      "metadata": {
        "id": "r4x-jlfZxZ5E"
      }
    },
    {
      "cell_type": "code",
      "source": [
        "plt.hist([len(i.split()) for i in train['text']])\n",
        "plt.title('Histogram of Length of Texts in Training Set')\n",
        "plt.xlabel('Length of Text')\n",
        "plt.ylabel('Count')"
      ],
      "metadata": {
        "execution": {
          "iopub.status.busy": "2022-12-07T23:20:27.399147Z",
          "iopub.execute_input": "2022-12-07T23:20:27.399654Z",
          "iopub.status.idle": "2022-12-07T23:20:27.636418Z",
          "shell.execute_reply.started": "2022-12-07T23:20:27.399620Z",
          "shell.execute_reply": "2022-12-07T23:20:27.635595Z"
        },
        "trusted": true,
        "id": "ZFD5R9ulhn1y",
        "outputId": "0285788e-c68f-4ec9-bd6f-2619bdaf40be",
        "colab": {
          "base_uri": "https://localhost:8080/",
          "height": 312
        }
      },
      "execution_count": 9,
      "outputs": [
        {
          "output_type": "execute_result",
          "data": {
            "text/plain": [
              "Text(0, 0.5, 'Count')"
            ]
          },
          "metadata": {},
          "execution_count": 9
        },
        {
          "output_type": "display_data",
          "data": {
            "text/plain": [
              "<Figure size 432x288 with 1 Axes>"
            ],
            "image/png": "[encoded data removed]"
          },
          "metadata": {
            "needs_background": "light"
          }
        }
      ]
    },
    {
      "cell_type": "code",
      "source": [
        "max(len(i.split()) for i in train['text'])"
      ],
      "metadata": {
        "execution": {
          "iopub.status.busy": "2022-12-07T23:20:27.638244Z",
          "iopub.execute_input": "2022-12-07T23:20:27.638842Z",
          "iopub.status.idle": "2022-12-07T23:20:27.653081Z",
          "shell.execute_reply.started": "2022-12-07T23:20:27.638797Z",
          "shell.execute_reply": "2022-12-07T23:20:27.651943Z"
        },
        "trusted": true,
        "id": "v_u-yozjhn1z",
        "outputId": "5e13d3ae-cbb5-43da-de87-99109e8c8837",
        "colab": {
          "base_uri": "https://localhost:8080/"
        }
      },
      "execution_count": 10,
      "outputs": [
        {
          "output_type": "execute_result",
          "data": {
            "text/plain": [
              "31"
            ]
          },
          "metadata": {},
          "execution_count": 10
        }
      ]
    },
    {
      "cell_type": "markdown",
      "source": [
        "The tweets in this data set are most 31 words (by convention they have character limits) with most containing between 10 and 20 words. Relatively simple models should suffice given this. "
      ],
      "metadata": {
        "id": "isL8pLTIuWxq"
      }
    },
    {
      "cell_type": "code",
      "source": [
        "plt.hist([len(i.split()) for i in test['text']])\n",
        "plt.title('Histogram of Length of Texts in Test Set')\n",
        "plt.xlabel('Length of Text')\n",
        "plt.ylabel('Count')"
      ],
      "metadata": {
        "execution": {
          "iopub.status.busy": "2022-12-07T23:20:27.654551Z",
          "iopub.execute_input": "2022-12-07T23:20:27.654956Z",
          "iopub.status.idle": "2022-12-07T23:20:27.867549Z",
          "shell.execute_reply.started": "2022-12-07T23:20:27.654922Z",
          "shell.execute_reply": "2022-12-07T23:20:27.866709Z"
        },
        "trusted": true,
        "id": "QnDaAHXhhn10",
        "outputId": "e880b3a6-5d84-499f-cfd5-78beeee4fb1a",
        "colab": {
          "base_uri": "https://localhost:8080/",
          "height": 312
        }
      },
      "execution_count": 11,
      "outputs": [
        {
          "output_type": "execute_result",
          "data": {
            "text/plain": [
              "Text(0, 0.5, 'Count')"
            ]
          },
          "metadata": {},
          "execution_count": 11
        },
        {
          "output_type": "display_data",
          "data": {
            "text/plain": [
              "<Figure size 432x288 with 1 Axes>"
            ],
            "image/png": "[encoded data removed]"
          },
          "metadata": {
            "needs_background": "light"
          }
        }
      ]
    },
    {
      "cell_type": "code",
      "source": [
        "max(len(i.split()) for i in test['text'])"
      ],
      "metadata": {
        "execution": {
          "iopub.status.busy": "2022-12-07T23:20:27.874180Z",
          "iopub.execute_input": "2022-12-07T23:20:27.875983Z",
          "iopub.status.idle": "2022-12-07T23:20:27.884869Z",
          "shell.execute_reply.started": "2022-12-07T23:20:27.875957Z",
          "shell.execute_reply": "2022-12-07T23:20:27.883771Z"
        },
        "trusted": true,
        "id": "zujeD_GPhn11",
        "outputId": "8ed68ae2-27dc-4d8c-afc8-bb5869ad3e76",
        "colab": {
          "base_uri": "https://localhost:8080/"
        }
      },
      "execution_count": 12,
      "outputs": [
        {
          "output_type": "execute_result",
          "data": {
            "text/plain": [
              "31"
            ]
          },
          "metadata": {},
          "execution_count": 12
        }
      ]
    },
    {
      "cell_type": "markdown",
      "source": [
        "The distribution and maximum length in words of the text fields of the tweets are similar allowing for generalizability to be possible with a well constructed model. "
      ],
      "metadata": {
        "id": "w1aZJwVUvlYx"
      }
    },
    {
      "cell_type": "code",
      "source": [
        "np.mean([len(i.split()) for i in train['text']])"
      ],
      "metadata": {
        "colab": {
          "base_uri": "https://localhost:8080/"
        },
        "id": "8ucoeEoVyyQk",
        "outputId": "7522e82b-7543-41cc-c45a-de3bcf595019"
      },
      "execution_count": 13,
      "outputs": [
        {
          "output_type": "execute_result",
          "data": {
            "text/plain": [
              "14.903585971364771"
            ]
          },
          "metadata": {},
          "execution_count": 13
        }
      ]
    },
    {
      "cell_type": "code",
      "source": [
        "np.mean([len(i.split()) for i in train[train['target'] == 1]['text']])"
      ],
      "metadata": {
        "colab": {
          "base_uri": "https://localhost:8080/"
        },
        "id": "JZiboQjMyJmu",
        "outputId": "b00bfb08-6e75-419b-f652-5f3b114e790b"
      },
      "execution_count": 14,
      "outputs": [
        {
          "output_type": "execute_result",
          "data": {
            "text/plain": [
              "15.167532864567411"
            ]
          },
          "metadata": {},
          "execution_count": 14
        }
      ]
    },
    {
      "cell_type": "code",
      "source": [
        "np.mean([len(i.split()) for i in train[train['target'] == 0]['text']])"
      ],
      "metadata": {
        "colab": {
          "base_uri": "https://localhost:8080/"
        },
        "id": "GQ9wVV5szGYq",
        "outputId": "fff879c6-e56c-4fbd-a082-f00422f107ac"
      },
      "execution_count": 15,
      "outputs": [
        {
          "output_type": "execute_result",
          "data": {
            "text/plain": [
              "14.704744357438969"
            ]
          },
          "metadata": {},
          "execution_count": 15
        }
      ]
    },
    {
      "cell_type": "markdown",
      "source": [
        "Despite the initial samples of texts from both 'target' categories, overall the number of words in a tweet on average is similar for both those tweets about and not about disasters."
      ],
      "metadata": {
        "id": "TeU7agtszJrl"
      }
    },
    {
      "cell_type": "code",
      "source": [
        "test.head()"
      ],
      "metadata": {
        "execution": {
          "iopub.status.busy": "2022-12-07T23:20:28.326871Z",
          "iopub.execute_input": "2022-12-07T23:20:28.327205Z",
          "iopub.status.idle": "2022-12-07T23:20:28.337244Z",
          "shell.execute_reply.started": "2022-12-07T23:20:28.327172Z",
          "shell.execute_reply": "2022-12-07T23:20:28.336152Z"
        },
        "trusted": true,
        "id": "NkDrWzewhn18",
        "outputId": "32b0f399-d36e-4ad0-a399-c1f902a61ffe",
        "colab": {
          "base_uri": "https://localhost:8080/",
          "height": 206
        }
      },
      "execution_count": 16,
      "outputs": [
        {
          "output_type": "execute_result",
          "data": {
            "text/plain": [
              "   id keyword location                                               text\n",
              "0   0     NaN      NaN                 Just happened a terrible car crash\n",
              "1   2     NaN      NaN  Heard about #earthquake is different cities, s...\n",
              "2   3     NaN      NaN  there is a forest fire at spot pond, geese are...\n",
              "3   9     NaN      NaN           Apocalypse lighting. #Spokane #wildfires\n",
              "4  11     NaN      NaN      Typhoon Soudelor kills 28 in China and Taiwan"
            ],
            "text/html": [
              "\n",
              "  <div id=\"df-dcc1ac10-2675-4a37-bb79-63445f9f3eeb\">\n",
              "    <div class=\"colab-df-container\">\n",
              "      <div>\n",
              "<style scoped>\n",
              "    .dataframe tbody tr th:only-of-type {\n",
              "        vertical-align: middle;\n",
              "    }\n",
              "\n",
              "    .dataframe tbody tr th {\n",
              "        vertical-align: top;\n",
              "    }\n",
              "\n",
              "    .dataframe thead th {\n",
              "        text-align: right;\n",
              "    }\n",
              "</style>\n",
              "<table border=\"1\" class=\"dataframe\">\n",
              "  <thead>\n",
              "    <tr style=\"text-align: right;\">\n",
              "      <th></th>\n",
              "      <th>id</th>\n",
              "      <th>keyword</th>\n",
              "      <th>location</th>\n",
              "      <th>text</th>\n",
              "    </tr>\n",
              "  </thead>\n",
              "  <tbody>\n",
              "    <tr>\n",
              "      <th>0</th>\n",
              "      <td>0</td>\n",
              "      <td>NaN</td>\n",
              "      <td>NaN</td>\n",
              "      <td>Just happened a terrible car crash</td>\n",
              "    </tr>\n",
              "    <tr>\n",
              "      <th>1</th>\n",
              "      <td>2</td>\n",
              "      <td>NaN</td>\n",
              "      <td>NaN</td>\n",
              "      <td>Heard about #earthquake is different cities, s...</td>\n",
              "    </tr>\n",
              "    <tr>\n",
              "      <th>2</th>\n",
              "      <td>3</td>\n",
              "      <td>NaN</td>\n",
              "      <td>NaN</td>\n",
              "      <td>there is a forest fire at spot pond, geese are...</td>\n",
              "    </tr>\n",
              "    <tr>\n",
              "      <th>3</th>\n",
              "      <td>9</td>\n",
              "      <td>NaN</td>\n",
              "      <td>NaN</td>\n",
              "      <td>Apocalypse lighting. #Spokane #wildfires</td>\n",
              "    </tr>\n",
              "    <tr>\n",
              "      <th>4</th>\n",
              "      <td>11</td>\n",
              "      <td>NaN</td>\n",
              "      <td>NaN</td>\n",
              "      <td>Typhoon Soudelor kills 28 in China and Taiwan</td>\n",
              "    </tr>\n",
              "  </tbody>\n",
              "</table>\n",
              "</div>\n",
              "      <button class=\"colab-df-convert\" onclick=\"convertToInteractive('df-dcc1ac10-2675-4a37-bb79-63445f9f3eeb')\"\n",
              "              title=\"Convert this dataframe to an interactive table.\"\n",
              "              style=\"display:none;\">\n",
              "        \n",
              "  <svg xmlns=\"http://www.w3.org/2000/svg\" height=\"24px\"viewBox=\"0 0 24 24\"\n",
              "       width=\"24px\">\n",
              "    <path d=\"M0 0h24v24H0V0z\" fill=\"none\"/>\n",
              "    <path d=\"M18.56 5.44l.94 2.06.94-2.06 2.06-.94-2.06-.94-.94-2.06-.94 2.06-2.06.94zm-11 1L8.5 8.5l.94-2.06 2.06-.94-2.06-.94L8.5 2.5l-.94 2.06-2.06.94zm10 10l.94 2.06.94-2.06 2.06-.94-2.06-.94-.94-2.06-.94 2.06-2.06.94z\"/><path d=\"M17.41 7.96l-1.37-1.37c-.4-.4-.92-.59-1.43-.59-.52 0-1.04.2-1.43.59L10.3 9.45l-7.72 7.72c-.78.78-.78 2.05 0 2.83L4 21.41c.39.39.9.59 1.41.59.51 0 1.02-.2 1.41-.59l7.78-7.78 2.81-2.81c.8-.78.8-2.07 0-2.86zM5.41 20L4 18.59l7.72-7.72 1.47 1.35L5.41 20z\"/>\n",
              "  </svg>\n",
              "      </button>\n",
              "      \n",
              "  <style>\n",
              "    .colab-df-container {\n",
              "      display:flex;\n",
              "      flex-wrap:wrap;\n",
              "      gap: 12px;\n",
              "    }\n",
              "\n",
              "    .colab-df-convert {\n",
              "      background-color: #E8F0FE;\n",
              "      border: none;\n",
              "      border-radius: 50%;\n",
              "      cursor: pointer;\n",
              "      display: none;\n",
              "      fill: #1967D2;\n",
              "      height: 32px;\n",
              "      padding: 0 0 0 0;\n",
              "      width: 32px;\n",
              "    }\n",
              "\n",
              "    .colab-df-convert:hover {\n",
              "      background-color: #E2EBFA;\n",
              "      box-shadow: 0px 1px 2px rgba(60, 64, 67, 0.3), 0px 1px 3px 1px rgba(60, 64, 67, 0.15);\n",
              "      fill: #174EA6;\n",
              "    }\n",
              "\n",
              "    [theme=dark] .colab-df-convert {\n",
              "      background-color: #3B4455;\n",
              "      fill: #D2E3FC;\n",
              "    }\n",
              "\n",
              "    [theme=dark] .colab-df-convert:hover {\n",
              "      background-color: #434B5C;\n",
              "      box-shadow: 0px 1px 3px 1px rgba(0, 0, 0, 0.15);\n",
              "      filter: drop-shadow(0px 1px 2px rgba(0, 0, 0, 0.3));\n",
              "      fill: #FFFFFF;\n",
              "    }\n",
              "  </style>\n",
              "\n",
              "      <script>\n",
              "        const buttonEl =\n",
              "          document.querySelector('#df-dcc1ac10-2675-4a37-bb79-63445f9f3eeb button.colab-df-convert');\n",
              "        buttonEl.style.display =\n",
              "          google.colab.kernel.accessAllowed ? 'block' : 'none';\n",
              "\n",
              "        async function convertToInteractive(key) {\n",
              "          const element = document.querySelector('#df-dcc1ac10-2675-4a37-bb79-63445f9f3eeb');\n",
              "          const dataTable =\n",
              "            await google.colab.kernel.invokeFunction('convertToInteractive',\n",
              "                                                     [key], {});\n",
              "          if (!dataTable) return;\n",
              "\n",
              "          const docLinkHtml = 'Like what you see? Visit the ' +\n",
              "            '<a target=\"_blank\" href=https://colab.research.google.com/notebooks/data_table.ipynb>data table notebook</a>'\n",
              "            + ' to learn more about interactive tables.';\n",
              "          element.innerHTML = '';\n",
              "          dataTable['output_type'] = 'display_data';\n",
              "          await google.colab.output.renderOutput(dataTable, element);\n",
              "          const docLink = document.createElement('div');\n",
              "          docLink.innerHTML = docLinkHtml;\n",
              "          element.appendChild(docLink);\n",
              "        }\n",
              "      </script>\n",
              "    </div>\n",
              "  </div>\n",
              "  "
            ]
          },
          "metadata": {},
          "execution_count": 16
        }
      ]
    },
    {
      "cell_type": "code",
      "source": [
        "test.shape"
      ],
      "metadata": {
        "execution": {
          "iopub.status.busy": "2022-12-07T23:20:28.338991Z",
          "iopub.execute_input": "2022-12-07T23:20:28.339419Z",
          "iopub.status.idle": "2022-12-07T23:20:28.347573Z",
          "shell.execute_reply.started": "2022-12-07T23:20:28.339385Z",
          "shell.execute_reply": "2022-12-07T23:20:28.346588Z"
        },
        "trusted": true,
        "id": "27ZWuKZThn18",
        "outputId": "3d84e152-fae7-49dd-ade9-65b6b3d50052",
        "colab": {
          "base_uri": "https://localhost:8080/"
        }
      },
      "execution_count": 17,
      "outputs": [
        {
          "output_type": "execute_result",
          "data": {
            "text/plain": [
              "(3263, 4)"
            ]
          },
          "metadata": {},
          "execution_count": 17
        }
      ]
    },
    {
      "cell_type": "markdown",
      "source": [
        "There are slightly less than half as many tweets in the test set."
      ],
      "metadata": {
        "id": "xwDJZ_8Iv5fS"
      }
    },
    {
      "cell_type": "markdown",
      "source": [
        "## Modeling"
      ],
      "metadata": {
        "id": "uHWq3TaAr2kL"
      }
    },
    {
      "cell_type": "markdown",
      "source": [
        "Among the many design choices for implementation that ultimately did not lead to the best results included using stop words combined with Tf-idf Vecotrizer parameter to remove words that did not sufficiently appear across tweets. When using recurrent neural networks, contextual meaning using all words, as opposed to reducing tweets to a subset of words, led to better performance. \n",
        "\n",
        "The tweets do need to be encoded into numerical vectors for the neural networks as done below.  "
      ],
      "metadata": {
        "id": "dSvmN3ShvlH9"
      }
    },
    {
      "cell_type": "code",
      "source": [
        "encoder = tf.keras.layers.TextVectorization()\n",
        "encoder.adapt(train['text'])"
      ],
      "metadata": {
        "execution": {
          "iopub.status.busy": "2022-12-07T23:20:46.960398Z",
          "iopub.execute_input": "2022-12-07T23:20:46.960735Z",
          "iopub.status.idle": "2022-12-07T23:20:55.615646Z",
          "shell.execute_reply.started": "2022-12-07T23:20:46.960703Z",
          "shell.execute_reply": "2022-12-07T23:20:55.614650Z"
        },
        "trusted": true,
        "id": "ffdFYPGThn2B"
      },
      "execution_count": 18,
      "outputs": []
    },
    {
      "cell_type": "code",
      "source": [
        "len(encoder.get_vocabulary())"
      ],
      "metadata": {
        "colab": {
          "base_uri": "https://localhost:8080/"
        },
        "id": "CLOEz4pISip4",
        "outputId": "3e44a093-fa4a-433e-ad4e-48fdcdd4114d"
      },
      "execution_count": 19,
      "outputs": [
        {
          "output_type": "execute_result",
          "data": {
            "text/plain": [
              "22699"
            ]
          },
          "metadata": {},
          "execution_count": 19
        }
      ]
    },
    {
      "cell_type": "markdown",
      "source": [
        "There are over 20,000 distinct words in the training data set."
      ],
      "metadata": {
        "id": "WSskTzWU1isn"
      }
    },
    {
      "cell_type": "code",
      "source": [
        "x = encoder(train['text']).numpy()"
      ],
      "metadata": {
        "execution": {
          "iopub.status.busy": "2022-12-07T23:20:55.624447Z",
          "iopub.execute_input": "2022-12-07T23:20:55.625492Z",
          "iopub.status.idle": "2022-12-07T23:20:55.700100Z",
          "shell.execute_reply.started": "2022-12-07T23:20:55.625453Z",
          "shell.execute_reply": "2022-12-07T23:20:55.699007Z"
        },
        "trusted": true,
        "id": "3QyPgbcXhn2B"
      },
      "execution_count": 20,
      "outputs": []
    },
    {
      "cell_type": "code",
      "source": [
        "x.shape"
      ],
      "metadata": {
        "colab": {
          "base_uri": "https://localhost:8080/"
        },
        "id": "0mrolBQVOTDg",
        "outputId": "b792c2f5-1399-4e29-c488-145e3cf97da9"
      },
      "execution_count": 21,
      "outputs": [
        {
          "output_type": "execute_result",
          "data": {
            "text/plain": [
              "(7613, 31)"
            ]
          },
          "metadata": {},
          "execution_count": 21
        }
      ]
    },
    {
      "cell_type": "code",
      "source": [
        "np.max(x)"
      ],
      "metadata": {
        "colab": {
          "base_uri": "https://localhost:8080/"
        },
        "id": "WCq9PCq54Iz3",
        "outputId": "185ed56c-957f-4183-fef5-08a72274ecda"
      },
      "execution_count": 22,
      "outputs": [
        {
          "output_type": "execute_result",
          "data": {
            "text/plain": [
              "22698"
            ]
          },
          "metadata": {},
          "execution_count": 22
        }
      ]
    },
    {
      "cell_type": "markdown",
      "source": [
        "Each unique word in the data set has been converted into an integer and each tweet is now a numerical vector."
      ],
      "metadata": {
        "id": "IVUX2qP54OBj"
      }
    },
    {
      "cell_type": "code",
      "source": [
        "max_review_length = x.shape[1]"
      ],
      "metadata": {
        "execution": {
          "iopub.status.busy": "2022-12-07T23:20:55.702372Z",
          "iopub.execute_input": "2022-12-07T23:20:55.702949Z",
          "iopub.status.idle": "2022-12-07T23:20:55.707231Z",
          "shell.execute_reply.started": "2022-12-07T23:20:55.702910Z",
          "shell.execute_reply": "2022-12-07T23:20:55.706214Z"
        },
        "trusted": true,
        "id": "9_8t-Bifhn2C"
      },
      "execution_count": 23,
      "outputs": []
    },
    {
      "cell_type": "code",
      "source": [
        "y = train['target']"
      ],
      "metadata": {
        "execution": {
          "iopub.status.busy": "2022-12-07T23:20:55.708972Z",
          "iopub.execute_input": "2022-12-07T23:20:55.709463Z",
          "iopub.status.idle": "2022-12-07T23:20:55.717182Z",
          "shell.execute_reply.started": "2022-12-07T23:20:55.709427Z",
          "shell.execute_reply": "2022-12-07T23:20:55.716170Z"
        },
        "trusted": true,
        "id": "obDRTYUmhn2C"
      },
      "execution_count": 24,
      "outputs": []
    },
    {
      "cell_type": "markdown",
      "source": [
        "The validation split size was utilized as a hyperparameter in optimizing performance and was tuned with values from 0.1 to 0.5 tried with 0.3 achieving the best results. Given the large number of parameters in neural networks, appropriate care is needed to ensure overfitting to the training split does not occur."
      ],
      "metadata": {
        "id": "WcWt3idBvN43"
      }
    },
    {
      "cell_type": "code",
      "source": [
        "x_train, x_val, y_train, y_val = train_test_split(x, y, test_size = 0.3, random_state = 0)"
      ],
      "metadata": {
        "execution": {
          "iopub.status.busy": "2022-12-07T23:20:55.720409Z",
          "iopub.execute_input": "2022-12-07T23:20:55.720673Z",
          "iopub.status.idle": "2022-12-07T23:20:55.730196Z",
          "shell.execute_reply.started": "2022-12-07T23:20:55.720648Z",
          "shell.execute_reply": "2022-12-07T23:20:55.729189Z"
        },
        "trusted": true,
        "id": "5rmuyiv-hn2C"
      },
      "execution_count": 25,
      "outputs": []
    },
    {
      "cell_type": "markdown",
      "source": [
        "Many hyperparameters were tuned in the model below to ensure that the complexity of the model was reasonable. GRUs, RNNs and LSTMs were tried with GRUs leading to the best results. The embedding vector length and number of recurrent units were adjusted to both larger and smaller values too than found below. The embedding layer in the network converts words to numerical vectors for neural network training. \n",
        "\n",
        "A handful of the many models attempted are presented in the notebook to present a common theme of overfitting to training (as will be seen in the subsequent accuracy and loss curves). Early stopping tied to optimal accuracy on the validation set (with weights restored) was paramount in mitigating overfitting with the hope of out of sample generalizability on the accuracy metric when fitting ont he test set. We first showcase the best performing model architecture.\n",
        "\n",
        "A sigmoid activation function is used to convert the output to probabilities between 0 and 1 which is compared to the target in the calculation of binary cross-entropy loss.\n"
      ],
      "metadata": {
        "id": "mPqHsp8Lu_Lu"
      }
    },
    {
      "cell_type": "code",
      "source": [
        "embedding_vetcor_length = 4\n",
        "input_dim = len(encoder.get_vocabulary())\n",
        "\n",
        "# fix random seed for reproducibility\n",
        "tf.random.set_seed(0)\n",
        "\n",
        "model1 = Sequential()\n",
        "model1.add(Embedding(input_dim, embedding_vetcor_length, input_length=max_review_length, mask_zero=True))\n",
        "model1.add(GRU(4))\n",
        "model1.add(Dense(1, activation='sigmoid'))\n",
        "model1.compile(loss='binary_crossentropy', optimizer='adam', metrics=['accuracy'])\n",
        "model1.summary()"
      ],
      "metadata": {
        "colab": {
          "base_uri": "https://localhost:8080/"
        },
        "id": "CkC03JX-wOsl",
        "outputId": "98b33461-ea68-43c5-dfc5-fb70529873b2"
      },
      "execution_count": 26,
      "outputs": [
        {
          "output_type": "stream",
          "name": "stdout",
          "text": [
            "Model: \"sequential\"\n",
            "_________________________________________________________________\n",
            " Layer (type)                Output Shape              Param #   \n",
            "=================================================================\n",
            " embedding (Embedding)       (None, 31, 4)             90796     \n",
            "                                                                 \n",
            " gru (GRU)                   (None, 4)                 120       \n",
            "                                                                 \n",
            " dense (Dense)               (None, 1)                 5         \n",
            "                                                                 \n",
            "=================================================================\n",
            "Total params: 90,921\n",
            "Trainable params: 90,921\n",
            "Non-trainable params: 0\n",
            "_________________________________________________________________\n"
          ]
        }
      ]
    },
    {
      "cell_type": "markdown",
      "source": [
        "There are over 90,000 parameters in this model but this is mainly due to the embedding layer. This is even with the embedding vector length and number of recurrent units (GRUs) are both only 4."
      ],
      "metadata": {
        "id": "qjUQfmOP546p"
      }
    },
    {
      "cell_type": "code",
      "source": [
        "callback = keras.callbacks.EarlyStopping(monitor='val_accuracy', patience=3, restore_best_weights = True)\n",
        "model1.compile(loss='binary_crossentropy', optimizer='adam', metrics=['accuracy'])\n",
        "history = model1.fit(x_train, y_train, epochs=10, callbacks = [callback],\n",
        "                    validation_data=(x_val, y_val))"
      ],
      "metadata": {
        "colab": {
          "base_uri": "https://localhost:8080/"
        },
        "id": "fsqaZ9nl46gU",
        "outputId": "7360fca9-f997-4e74-c3d7-d2263d6efee3"
      },
      "execution_count": 27,
      "outputs": [
        {
          "output_type": "stream",
          "name": "stdout",
          "text": [
            "Epoch 1/10\n",
            "167/167 [==============================] - 10s 35ms/step - loss: 0.6828 - accuracy: 0.5603 - val_loss: 0.6646 - val_accuracy: 0.5858\n",
            "Epoch 2/10\n",
            "167/167 [==============================] - 5s 28ms/step - loss: 0.5836 - accuracy: 0.6938 - val_loss: 0.5019 - val_accuracy: 0.7877\n",
            "Epoch 3/10\n",
            "167/167 [==============================] - 5s 28ms/step - loss: 0.3531 - accuracy: 0.8707 - val_loss: 0.4709 - val_accuracy: 0.7977\n",
            "Epoch 4/10\n",
            "167/167 [==============================] - 4s 24ms/step - loss: 0.2154 - accuracy: 0.9283 - val_loss: 0.5173 - val_accuracy: 0.7697\n",
            "Epoch 5/10\n",
            "167/167 [==============================] - 4s 26ms/step - loss: 0.1441 - accuracy: 0.9578 - val_loss: 0.5324 - val_accuracy: 0.7802\n",
            "Epoch 6/10\n",
            "167/167 [==============================] - 3s 20ms/step - loss: 0.0969 - accuracy: 0.9730 - val_loss: 0.6233 - val_accuracy: 0.7640\n"
          ]
        }
      ]
    },
    {
      "cell_type": "code",
      "source": [
        "plt.plot(range(1,len(history.history['loss']) + 1), history.history['loss'])\n",
        "plt.plot(range(1, len(history.history['loss']) + 1) , history.history['val_loss'])\n",
        "plt.title('BCE Loss over epochs')\n",
        "plt.ylabel('Binary Crossentropy')\n",
        "plt.xlabel('Epoch')\n",
        "plt.legend(['Train', 'Validation'], loc='best')\n",
        "plt.show()"
      ],
      "metadata": {
        "colab": {
          "base_uri": "https://localhost:8080/",
          "height": 295
        },
        "id": "iRh_A6e-3krS",
        "outputId": "a3854e28-5a10-4e50-e847-f7db0aa5030a"
      },
      "execution_count": 28,
      "outputs": [
        {
          "output_type": "display_data",
          "data": {
            "text/plain": [
              "<Figure size 432x288 with 1 Axes>"
            ],
            "image/png": "[encoded data removed]"
          },
          "metadata": {
            "needs_background": "light"
          }
        }
      ]
    },
    {
      "cell_type": "code",
      "source": [
        "plt.plot(range(1,len(history.history['loss']) + 1), history.history['accuracy'])\n",
        "plt.plot(range(1, len(history.history['loss']) + 1) , history.history['val_accuracy'])\n",
        "plt.title('Accuracy over epochs')\n",
        "plt.ylabel('Accuracy')\n",
        "plt.xlabel('Epoch')\n",
        "plt.legend(['Train', 'Validation'], loc='best')\n",
        "plt.show()"
      ],
      "metadata": {
        "colab": {
          "base_uri": "https://localhost:8080/",
          "height": 295
        },
        "id": "eJxguERw3kvK",
        "outputId": "5ca0eaa5-78fd-463c-e595-5d07c2f90c77"
      },
      "execution_count": 29,
      "outputs": [
        {
          "output_type": "display_data",
          "data": {
            "text/plain": [
              "<Figure size 432x288 with 1 Axes>"
            ],
            "image/png": "[encoded data removed]"
          },
          "metadata": {
            "needs_background": "light"
          }
        }
      ]
    },
    {
      "cell_type": "markdown",
      "source": [
        "As can be seen from the loss and accuracy curves, fitting to training continues to improve with so many parameters in the model. Early stopping tied to validation accuracy leads to only a few epochs of training being needed.\n",
        "\n",
        "Fewer GRU units and a shorter embedding vector length is used below to reduce the number of parameters. "
      ],
      "metadata": {
        "id": "CSOuS61-wFjH"
      }
    },
    {
      "cell_type": "code",
      "source": [
        "tf.random.set_seed(0)\n",
        "embedding_vetcor_length = 2\n",
        "input_dim = len(encoder.get_vocabulary())\n",
        "model2 = Sequential()\n",
        "model2.add(Embedding(input_dim, embedding_vetcor_length, input_length=max_review_length, mask_zero=True))\n",
        "model2.add(GRU(2))\n",
        "model2.add(Dense(1, activation='sigmoid'))\n",
        "model2.compile(loss='binary_crossentropy', optimizer='adam', metrics=['accuracy'])\n",
        "model2.summary()\n"
      ],
      "metadata": {
        "colab": {
          "base_uri": "https://localhost:8080/"
        },
        "id": "ldhUkmC411jQ",
        "outputId": "a9a49282-4673-4ca9-8e48-99e799443008"
      },
      "execution_count": 30,
      "outputs": [
        {
          "output_type": "stream",
          "name": "stdout",
          "text": [
            "Model: \"sequential_1\"\n",
            "_________________________________________________________________\n",
            " Layer (type)                Output Shape              Param #   \n",
            "=================================================================\n",
            " embedding_1 (Embedding)     (None, 31, 2)             45398     \n",
            "                                                                 \n",
            " gru_1 (GRU)                 (None, 2)                 36        \n",
            "                                                                 \n",
            " dense_1 (Dense)             (None, 1)                 3         \n",
            "                                                                 \n",
            "=================================================================\n",
            "Total params: 45,437\n",
            "Trainable params: 45,437\n",
            "Non-trainable params: 0\n",
            "_________________________________________________________________\n"
          ]
        }
      ]
    },
    {
      "cell_type": "markdown",
      "source": [
        "The number of parameters is now about half of what it was in the previous model with again the embedding layer being prominent in this respect."
      ],
      "metadata": {
        "id": "oPhdgvh06OOU"
      }
    },
    {
      "cell_type": "code",
      "source": [
        "callback = keras.callbacks.EarlyStopping(monitor='val_accuracy', patience=3, restore_best_weights = True)\n",
        "model2.compile(loss='binary_crossentropy', optimizer='adam', metrics=['accuracy'])\n",
        "history = model2.fit(x_train, y_train, epochs=10, callbacks = [callback], \n",
        "                    validation_data=(x_val, y_val))"
      ],
      "metadata": {
        "colab": {
          "base_uri": "https://localhost:8080/"
        },
        "id": "s3Q_akGq16jD",
        "outputId": "2f786996-1b24-49fd-e0c0-371d9891a9ec"
      },
      "execution_count": 31,
      "outputs": [
        {
          "output_type": "stream",
          "name": "stdout",
          "text": [
            "Epoch 1/10\n",
            "167/167 [==============================] - 9s 28ms/step - loss: 0.6873 - accuracy: 0.5579 - val_loss: 0.6787 - val_accuracy: 0.5858\n",
            "Epoch 2/10\n",
            "167/167 [==============================] - 4s 25ms/step - loss: 0.6734 - accuracy: 0.5637 - val_loss: 0.6649 - val_accuracy: 0.5858\n",
            "Epoch 3/10\n",
            "167/167 [==============================] - 5s 27ms/step - loss: 0.6233 - accuracy: 0.6331 - val_loss: 0.6155 - val_accuracy: 0.6835\n",
            "Epoch 4/10\n",
            "167/167 [==============================] - 3s 20ms/step - loss: 0.4574 - accuracy: 0.8514 - val_loss: 0.5022 - val_accuracy: 0.7758\n",
            "Epoch 5/10\n",
            "167/167 [==============================] - 3s 19ms/step - loss: 0.2870 - accuracy: 0.9020 - val_loss: 0.4888 - val_accuracy: 0.7793\n",
            "Epoch 6/10\n",
            "167/167 [==============================] - 3s 20ms/step - loss: 0.1964 - accuracy: 0.9388 - val_loss: 0.5050 - val_accuracy: 0.7736\n",
            "Epoch 7/10\n",
            "167/167 [==============================] - 3s 20ms/step - loss: 0.1415 - accuracy: 0.9610 - val_loss: 0.5427 - val_accuracy: 0.7588\n",
            "Epoch 8/10\n",
            "167/167 [==============================] - 4s 23ms/step - loss: 0.1063 - accuracy: 0.9732 - val_loss: 0.5681 - val_accuracy: 0.7675\n"
          ]
        }
      ]
    },
    {
      "cell_type": "code",
      "source": [
        "plt.plot(range(1,len(history.history['loss']) + 1), history.history['loss'])\n",
        "plt.plot(range(1, len(history.history['loss']) + 1) , history.history['val_loss'])\n",
        "plt.title('BCE Loss over epochs')\n",
        "plt.ylabel('Binary Crossentropy')\n",
        "plt.xlabel('Epoch')\n",
        "plt.legend(['Train', 'Validation'], loc='best')\n",
        "plt.show()"
      ],
      "metadata": {
        "colab": {
          "base_uri": "https://localhost:8080/",
          "height": 295
        },
        "id": "KtNfoVoLs6A7",
        "outputId": "88ce0985-ed40-45ee-de03-56784ba494ea"
      },
      "execution_count": 32,
      "outputs": [
        {
          "output_type": "display_data",
          "data": {
            "text/plain": [
              "<Figure size 432x288 with 1 Axes>"
            ],
            "image/png": "[encoded data removed]"
          },
          "metadata": {
            "needs_background": "light"
          }
        }
      ]
    },
    {
      "cell_type": "code",
      "source": [
        "plt.plot(range(1,len(history.history['loss']) + 1), history.history['accuracy'])\n",
        "plt.plot(range(1, len(history.history['loss']) + 1) , history.history['val_accuracy'])\n",
        "plt.title('Accuracy over epochs')\n",
        "plt.ylabel('Accuracy')\n",
        "plt.xlabel('Epoch')\n",
        "plt.legend(['Train', 'Validation'], loc='best')\n",
        "plt.show()"
      ],
      "metadata": {
        "colab": {
          "base_uri": "https://localhost:8080/",
          "height": 295
        },
        "id": "Dp5MM9ywtUUQ",
        "outputId": "39b87078-777f-4456-bd76-cc556829aeb3"
      },
      "execution_count": 33,
      "outputs": [
        {
          "output_type": "display_data",
          "data": {
            "text/plain": [
              "<Figure size 432x288 with 1 Axes>"
            ],
            "image/png": "[encoded data removed]"
          },
          "metadata": {
            "needs_background": "light"
          }
        }
      ]
    },
    {
      "cell_type": "markdown",
      "source": [
        " The loss and accuracy curves show a consistent pattern with potential overfitting being thwarted by the validation set with the metrics on the validation set peaking quickly.\n",
        "\n",
        "Next LSTM units are instead of GRUs."
      ],
      "metadata": {
        "id": "Vra0CgM16dRh"
      }
    },
    {
      "cell_type": "code",
      "source": [
        "tf.random.set_seed(0)\n",
        "embedding_vetcor_length = 4\n",
        "input_dim = len(encoder.get_vocabulary())\n",
        "model3 = Sequential()\n",
        "model3.add(Embedding(input_dim, embedding_vetcor_length, input_length=max_review_length, mask_zero=True))\n",
        "model3.add(LSTM(4))\n",
        "model3.add(Dense(1, activation='sigmoid'))\n",
        "model3.compile(loss='binary_crossentropy', optimizer='adam', metrics=['accuracy'])\n",
        "model3.summary()"
      ],
      "metadata": {
        "colab": {
          "base_uri": "https://localhost:8080/"
        },
        "id": "rgV9ZTAO7-bh",
        "outputId": "24a2c2d3-dc20-4ac4-fc5f-ca4ca20cc7a5"
      },
      "execution_count": 34,
      "outputs": [
        {
          "output_type": "stream",
          "name": "stdout",
          "text": [
            "Model: \"sequential_2\"\n",
            "_________________________________________________________________\n",
            " Layer (type)                Output Shape              Param #   \n",
            "=================================================================\n",
            " embedding_2 (Embedding)     (None, 31, 4)             90796     \n",
            "                                                                 \n",
            " lstm (LSTM)                 (None, 4)                 144       \n",
            "                                                                 \n",
            " dense_2 (Dense)             (None, 1)                 5         \n",
            "                                                                 \n",
            "=================================================================\n",
            "Total params: 90,945\n",
            "Trainable params: 90,945\n",
            "Non-trainable params: 0\n",
            "_________________________________________________________________\n"
          ]
        }
      ]
    },
    {
      "cell_type": "markdown",
      "source": [
        "The number of parameters is similar to the first model."
      ],
      "metadata": {
        "id": "UDpFPx8z87P4"
      }
    },
    {
      "cell_type": "code",
      "source": [
        "callback = keras.callbacks.EarlyStopping(monitor='val_accuracy', patience=3, restore_best_weights = True)\n",
        "model3.compile(loss='binary_crossentropy', optimizer='adam', metrics=['accuracy'])\n",
        "history = model3.fit(x_train, y_train, epochs=10, callbacks = [callback], \n",
        "                    validation_data=(x_val, y_val))"
      ],
      "metadata": {
        "colab": {
          "base_uri": "https://localhost:8080/"
        },
        "id": "t8Yyskzt7_DT",
        "outputId": "6e30a979-3624-47f1-cc5f-044174682bec"
      },
      "execution_count": 35,
      "outputs": [
        {
          "output_type": "stream",
          "name": "stdout",
          "text": [
            "Epoch 1/10\n",
            "167/167 [==============================] - 11s 37ms/step - loss: 0.6714 - accuracy: 0.5808 - val_loss: 0.5995 - val_accuracy: 0.7128\n",
            "Epoch 2/10\n",
            "167/167 [==============================] - 5s 31ms/step - loss: 0.5138 - accuracy: 0.8135 - val_loss: 0.5089 - val_accuracy: 0.7780\n",
            "Epoch 3/10\n",
            "167/167 [==============================] - 4s 25ms/step - loss: 0.3559 - accuracy: 0.8887 - val_loss: 0.5013 - val_accuracy: 0.7850\n",
            "Epoch 4/10\n",
            "167/167 [==============================] - 4s 24ms/step - loss: 0.2569 - accuracy: 0.9264 - val_loss: 0.5269 - val_accuracy: 0.7732\n",
            "Epoch 5/10\n",
            "167/167 [==============================] - 5s 30ms/step - loss: 0.1953 - accuracy: 0.9456 - val_loss: 0.5531 - val_accuracy: 0.7701\n",
            "Epoch 6/10\n",
            "167/167 [==============================] - 5s 28ms/step - loss: 0.1476 - accuracy: 0.9636 - val_loss: 0.5956 - val_accuracy: 0.7649\n"
          ]
        }
      ]
    },
    {
      "cell_type": "code",
      "source": [
        "plt.plot(range(1,len(history.history['loss']) + 1), history.history['loss'])\n",
        "plt.plot(range(1, len(history.history['loss']) + 1) , history.history['val_loss'])\n",
        "plt.title('BCE Loss over epochs')\n",
        "plt.ylabel('Binary Crossentropy')\n",
        "plt.xlabel('Epoch')\n",
        "plt.legend(['Train', 'Validation'], loc='best')\n",
        "plt.show()"
      ],
      "metadata": {
        "colab": {
          "base_uri": "https://localhost:8080/",
          "height": 295
        },
        "id": "PKx7OOVG8CRI",
        "outputId": "75604389-fddf-4749-ff20-aa5a6594fd4d"
      },
      "execution_count": 36,
      "outputs": [
        {
          "output_type": "display_data",
          "data": {
            "text/plain": [
              "<Figure size 432x288 with 1 Axes>"
            ],
            "image/png": "[encoded data removed]"
          },
          "metadata": {
            "needs_background": "light"
          }
        }
      ]
    },
    {
      "cell_type": "code",
      "source": [
        "plt.plot(range(1,len(history.history['loss']) + 1), history.history['accuracy'])\n",
        "plt.plot(range(1, len(history.history['loss']) + 1) , history.history['val_accuracy'])\n",
        "plt.title('Accuracy over epochs')\n",
        "plt.ylabel('Accuracy')\n",
        "plt.xlabel('Epoch')\n",
        "plt.legend(['Train', 'Validation'], loc='best')\n",
        "plt.show()"
      ],
      "metadata": {
        "colab": {
          "base_uri": "https://localhost:8080/",
          "height": 295
        },
        "id": "vpwDRv1O8XWh",
        "outputId": "fa9d37c5-b025-4ede-e968-65df8da62c4f"
      },
      "execution_count": 37,
      "outputs": [
        {
          "output_type": "display_data",
          "data": {
            "text/plain": [
              "<Figure size 432x288 with 1 Axes>"
            ],
            "image/png": "[encoded data removed]"
          },
          "metadata": {
            "needs_background": "light"
          }
        }
      ]
    },
    {
      "cell_type": "markdown",
      "source": [
        "The change in architecture does not have a substantial effect on the metrics presented in the graphs above.\n",
        " \n",
        "The metrics using the restored best weights in each of the three models is summarized below."
      ],
      "metadata": {
        "id": "ryahZpBu7YRe"
      }
    },
    {
      "cell_type": "markdown",
      "source": [
        "|Model| BCE Loss (Train)| BCE Loss (Validation)|Accuracy (Train)| Accuracy (Validation)|\n",
        "|:----|:----|:----|:----|:--------:|\n",
        "|GRU 90,000+ parameters|0.3531|0.4709|0.8707|0.7977|\n",
        "|GRU 45,000+ parameters|0.2870|0.4888|0.9020|0.7793|\n",
        "|LSTM 90,000+ parameters|0.3559|0.5013|0.8887 |0.7850|"
      ],
      "metadata": {
        "id": "lvTv_k2e84sz"
      }
    },
    {
      "cell_type": "markdown",
      "source": [
        "The most importance metric in the table above is accuracy on the validation set (4th column) as that is what needs to be maximized out of sample on the test set. \n",
        "\n",
        "Now the best performing model is used to make predictions. All three of the above made inference on the test set on Kaggle (with results to follow shortly), but the GRU with 90,000 parameters predictions will be further studied to provide additional insights.\n",
        "\n"
      ],
      "metadata": {
        "id": "0CtGtCwT9RM0"
      }
    },
    {
      "cell_type": "code",
      "source": [
        "test_vec = encoder(test['text']).numpy()"
      ],
      "metadata": {
        "execution": {
          "iopub.status.busy": "2022-12-07T23:21:22.672515Z",
          "iopub.execute_input": "2022-12-07T23:21:22.672973Z",
          "iopub.status.idle": "2022-12-07T23:21:22.726410Z",
          "shell.execute_reply.started": "2022-12-07T23:21:22.672935Z",
          "shell.execute_reply": "2022-12-07T23:21:22.725511Z"
        },
        "trusted": true,
        "id": "Lw9xvwIChn2F"
      },
      "execution_count": 38,
      "outputs": []
    },
    {
      "cell_type": "code",
      "source": [
        "train_preds = np.round(model1.predict(x))\n",
        "train_preds = [int(i) for i in train_preds]"
      ],
      "metadata": {
        "execution": {
          "iopub.status.busy": "2022-12-07T23:21:22.761172Z",
          "iopub.execute_input": "2022-12-07T23:21:22.761829Z",
          "iopub.status.idle": "2022-12-07T23:21:23.701595Z",
          "shell.execute_reply.started": "2022-12-07T23:21:22.761784Z",
          "shell.execute_reply": "2022-12-07T23:21:23.700557Z"
        },
        "trusted": true,
        "id": "O8IPJlz8hn2G",
        "colab": {
          "base_uri": "https://localhost:8080/"
        },
        "outputId": "769ffbc6-ce78-4483-fc14-cadb9d7a421c"
      },
      "execution_count": 39,
      "outputs": [
        {
          "output_type": "stream",
          "name": "stdout",
          "text": [
            "238/238 [==============================] - 3s 4ms/step\n"
          ]
        }
      ]
    },
    {
      "cell_type": "code",
      "source": [
        "np.mean(train_preds == train['target'])"
      ],
      "metadata": {
        "execution": {
          "iopub.status.busy": "2022-12-07T23:21:23.704982Z",
          "iopub.execute_input": "2022-12-07T23:21:23.705280Z",
          "iopub.status.idle": "2022-12-07T23:21:23.714796Z",
          "shell.execute_reply.started": "2022-12-07T23:21:23.705253Z",
          "shell.execute_reply": "2022-12-07T23:21:23.713809Z"
        },
        "trusted": true,
        "id": "Iv25xZ9uhn2H",
        "outputId": "23b06196-07ff-437a-d665-aeb2522ec006",
        "colab": {
          "base_uri": "https://localhost:8080/"
        }
      },
      "execution_count": 40,
      "outputs": [
        {
          "output_type": "execute_result",
          "data": {
            "text/plain": [
              "0.8899251280704059"
            ]
          },
          "metadata": {},
          "execution_count": 40
        }
      ]
    },
    {
      "cell_type": "code",
      "source": [
        "np.mean(train_preds)"
      ],
      "metadata": {
        "colab": {
          "base_uri": "https://localhost:8080/"
        },
        "id": "pev-GhrEV8e8",
        "outputId": "7b0ea545-0090-410f-b2f5-94953f2fcee9"
      },
      "execution_count": 41,
      "outputs": [
        {
          "output_type": "execute_result",
          "data": {
            "text/plain": [
              "0.4020753973466439"
            ]
          },
          "metadata": {},
          "execution_count": 41
        }
      ]
    },
    {
      "cell_type": "markdown",
      "source": [
        "The model slightly underpredicts tweets about disasters on the data it has been fitted on."
      ],
      "metadata": {
        "id": "Gikkycu2gdA2"
      }
    },
    {
      "cell_type": "code",
      "source": [
        "cm = confusion_matrix(train['target'], train_preds)\n",
        "disp = ConfusionMatrixDisplay(cm)\n",
        "disp.plot(values_format='')"
      ],
      "metadata": {
        "colab": {
          "base_uri": "https://localhost:8080/",
          "height": 299
        },
        "id": "K0YYHWze3Fw7",
        "outputId": "d5048f9f-8d36-419e-9cbd-8020a70fb55a"
      },
      "execution_count": 46,
      "outputs": [
        {
          "output_type": "execute_result",
          "data": {
            "text/plain": [
              "<sklearn.metrics._plot.confusion_matrix.ConfusionMatrixDisplay at 0x7f24734c6df0>"
            ]
          },
          "metadata": {},
          "execution_count": 46
        },
        {
          "output_type": "display_data",
          "data": {
            "text/plain": [
              "<Figure size 432x288 with 2 Axes>"
            ],
            "image/png": "[encoded data removed]"
          },
          "metadata": {
            "needs_background": "light"
          }
        }
      ]
    },
    {
      "cell_type": "markdown",
      "source": [
        "\n",
        "The confusion matrix is presented as even though accuracy is the metric being employed to evaluate models, it may be the case that false positives and false negatives are not equally as problematic (depending on the use case of the classifier).\n",
        "\n",
        "\n",
        "\n"
      ],
      "metadata": {
        "id": "8zSTNZ8_30uF"
      }
    },
    {
      "cell_type": "code",
      "source": [
        "train_preds2 = np.round(model1.predict(x_train))\n",
        "train_preds2 = [int(i) for i in train_preds2]\n",
        "\n",
        "cm = confusion_matrix(y_train, train_preds2)\n",
        "disp = ConfusionMatrixDisplay(cm)\n",
        "disp.plot(values_format='')"
      ],
      "metadata": {
        "colab": {
          "base_uri": "https://localhost:8080/",
          "height": 314
        },
        "id": "Ct5t2vfRCJhq",
        "outputId": "bc8133ff-06ec-4c3c-f22c-d9597a9b7d8f"
      },
      "execution_count": 49,
      "outputs": [
        {
          "output_type": "stream",
          "name": "stdout",
          "text": [
            "167/167 [==============================] - 1s 6ms/step\n"
          ]
        },
        {
          "output_type": "execute_result",
          "data": {
            "text/plain": [
              "<sklearn.metrics._plot.confusion_matrix.ConfusionMatrixDisplay at 0x7f2479d20d00>"
            ]
          },
          "metadata": {},
          "execution_count": 49
        },
        {
          "output_type": "display_data",
          "data": {
            "text/plain": [
              "<Figure size 432x288 with 2 Axes>"
            ],
            "image/png": "[encoded data removed]"
          },
          "metadata": {
            "needs_background": "light"
          }
        }
      ]
    },
    {
      "cell_type": "code",
      "source": [
        "val_preds = np.round(model1.predict(x_val))\n",
        "val_preds = [int(i) for i in val_preds]\n",
        "\n",
        "cm = confusion_matrix(y_val, val_preds)\n",
        "disp = ConfusionMatrixDisplay(cm)\n",
        "disp.plot(values_format='')"
      ],
      "metadata": {
        "colab": {
          "base_uri": "https://localhost:8080/",
          "height": 314
        },
        "id": "3FjLe_owCJup",
        "outputId": "fb0f4fc9-b037-4a6e-ddef-93b167c8b661"
      },
      "execution_count": 50,
      "outputs": [
        {
          "output_type": "stream",
          "name": "stdout",
          "text": [
            "72/72 [==============================] - 1s 7ms/step\n"
          ]
        },
        {
          "output_type": "execute_result",
          "data": {
            "text/plain": [
              "<sklearn.metrics._plot.confusion_matrix.ConfusionMatrixDisplay at 0x7f2474422640>"
            ]
          },
          "metadata": {},
          "execution_count": 50
        },
        {
          "output_type": "display_data",
          "data": {
            "text/plain": [
              "<Figure size 432x288 with 2 Axes>"
            ],
            "image/png": "[encoded data removed]"
          },
          "metadata": {
            "needs_background": "light"
          }
        }
      ]
    },
    {
      "cell_type": "markdown",
      "source": [
        "Confusion matrices on the training and validation splits are also shown with the validation split (directly above) more likely tied to model performance out of sample.\n",
        "\n",
        "Now we proceed ot the test set."
      ],
      "metadata": {
        "id": "NAEv3QllDXXu"
      }
    },
    {
      "cell_type": "code",
      "source": [
        "preds = np.round(model1.predict(test_vec))\n",
        "preds = [int(i) for i in preds]"
      ],
      "metadata": {
        "execution": {
          "iopub.status.busy": "2022-12-07T23:21:23.725735Z",
          "iopub.execute_input": "2022-12-07T23:21:23.726371Z",
          "iopub.status.idle": "2022-12-07T23:21:24.272983Z",
          "shell.execute_reply.started": "2022-12-07T23:21:23.726321Z",
          "shell.execute_reply": "2022-12-07T23:21:24.272004Z"
        },
        "trusted": true,
        "id": "yEb3YAw2hn2I",
        "colab": {
          "base_uri": "https://localhost:8080/"
        },
        "outputId": "28b380b9-515c-4356-ca37-b5cb310173d5"
      },
      "execution_count": 51,
      "outputs": [
        {
          "output_type": "stream",
          "name": "stdout",
          "text": [
            "102/102 [==============================] - 0s 4ms/step\n"
          ]
        }
      ]
    },
    {
      "cell_type": "code",
      "source": [
        "np.mean(preds)"
      ],
      "metadata": {
        "execution": {
          "iopub.status.busy": "2022-12-07T23:21:24.274216Z",
          "iopub.execute_input": "2022-12-07T23:21:24.274575Z",
          "iopub.status.idle": "2022-12-07T23:21:24.281998Z",
          "shell.execute_reply.started": "2022-12-07T23:21:24.274540Z",
          "shell.execute_reply": "2022-12-07T23:21:24.281049Z"
        },
        "trusted": true,
        "id": "RnV3aX9Nhn2I",
        "outputId": "791c0f9e-f876-4513-baaf-c5e388ab0894",
        "colab": {
          "base_uri": "https://localhost:8080/"
        }
      },
      "execution_count": 52,
      "outputs": [
        {
          "output_type": "execute_result",
          "data": {
            "text/plain": [
              "0.363162733680662"
            ]
          },
          "metadata": {},
          "execution_count": 52
        }
      ]
    },
    {
      "cell_type": "markdown",
      "source": [
        "On the test set the model predicts a still smaller percentage of tweets are about disasters."
      ],
      "metadata": {
        "id": "A4jsReM2gvgW"
      }
    },
    {
      "cell_type": "code",
      "source": [
        "sub = pd.read_csv('../input/nlp-getting-started/sample_submission.csv')\n",
        "sub['target'] = preds\n",
        "sub.head()"
      ],
      "metadata": {
        "execution": {
          "iopub.status.busy": "2022-12-08T16:30:40.352364Z",
          "iopub.execute_input": "2022-12-08T16:30:40.352861Z",
          "iopub.status.idle": "2022-12-08T16:30:40.369907Z",
          "shell.execute_reply.started": "2022-12-08T16:30:40.352822Z",
          "shell.execute_reply": "2022-12-08T16:30:40.368644Z"
        },
        "trusted": true,
        "id": "hqLbReTgl0Sa",
        "outputId": "c287c079-87d2-41cc-eda3-0ebb88b10f16"
      },
      "execution_count": null,
      "outputs": [
        {
          "execution_count": 53,
          "output_type": "execute_result",
          "data": {
            "text/plain": "   id  target\n0   0       1\n1   2       0\n2   3       1\n3   9       1\n4  11       1",
            "text/html": "<div>\n<style scoped>\n    .dataframe tbody tr th:only-of-type {\n        vertical-align: middle;\n    }\n\n    .dataframe tbody tr th {\n        vertical-align: top;\n    }\n\n    .dataframe thead th {\n        text-align: right;\n    }\n</style>\n<table border=\"1\" class=\"dataframe\">\n  <thead>\n    <tr style=\"text-align: right;\">\n      <th></th>\n      <th>id</th>\n      <th>target</th>\n    </tr>\n  </thead>\n  <tbody>\n    <tr>\n      <th>0</th>\n      <td>0</td>\n      <td>1</td>\n    </tr>\n    <tr>\n      <th>1</th>\n      <td>2</td>\n      <td>0</td>\n    </tr>\n    <tr>\n      <th>2</th>\n      <td>3</td>\n      <td>1</td>\n    </tr>\n    <tr>\n      <th>3</th>\n      <td>9</td>\n      <td>1</td>\n    </tr>\n    <tr>\n      <th>4</th>\n      <td>11</td>\n      <td>1</td>\n    </tr>\n  </tbody>\n</table>\n</div>"
          },
          "metadata": {}
        }
      ]
    },
    {
      "cell_type": "code",
      "source": [
        "sub.to_csv('submission.csv', index=False)"
      ],
      "metadata": {
        "id": "jtZUuls4mEMy"
      },
      "execution_count": null,
      "outputs": []
    },
    {
      "cell_type": "markdown",
      "source": [
        "## Results Summary"
      ],
      "metadata": {
        "id": "751FiFZ6mFml"
      }
    },
    {
      "cell_type": "markdown",
      "source": [
        "|Model| Accuracy (Test)| \n",
        "|:----|:--------:|\n",
        "|GRU 90,000+ parameters|0.78455|\n",
        "|GRU 45,000+ parameters|0.76269|\n",
        "|LSTM 90,000+ parameters|0.77229|"
      ],
      "metadata": {
        "id": "xW8Fnq8A81Ey"
      }
    },
    {
      "cell_type": "markdown",
      "source": [
        " \n",
        "0.78455 accuracy was achieved on the test set upon submission of the apparently (per accuracy on the validation set) best model to Kaggle. This was the highest score achieved of the three and is quite close to its accuracy on the validation set. The other models also had only slightly lower accuracies in comparison to one another and with their own performance on the validation set.\n",
        " \n",
        "However across models, as mentioned previously, the large number of embedding parameters led to overfitting on the training split. Perhaps dropout layers could mitigate this, or additional care in vectorizing the text is required. Direct attempts on lowering parameters via stop word and uncommon word removal did not work well with recurrent neural networks.\n",
        " \n",
        "When the model parameters were reduced substantially, there still wasn't much improvement in out of sample loss and accuracy even if there was less overfitting on the training data. This suggests more nuanced NLP preprocessing techniques or combining the other tweet attributes in the data are avenues worthy of exploration.\n",
        " \n"
      ],
      "metadata": {
        "id": "8ZZK-tD7mKIz"
      }
    }
  ]
}